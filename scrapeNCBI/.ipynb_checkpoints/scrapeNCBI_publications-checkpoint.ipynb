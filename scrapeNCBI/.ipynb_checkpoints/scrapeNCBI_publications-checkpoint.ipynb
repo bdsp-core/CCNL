{
 "cells": [
  {
   "cell_type": "code",
   "execution_count": 17,
   "id": "65fd34c1",
   "metadata": {},
   "outputs": [
    {
     "name": "stdout",
     "output_type": "stream",
     "text": [
      "https://www.ncbi.nlm.nih.gov/myncbi/m.%20brandon.westover.1/bibliography/public/?page=1\n",
      "https://www.ncbi.nlm.nih.gov/myncbi/m.%20brandon.westover.1/bibliography/public/?page=2\n",
      "https://www.ncbi.nlm.nih.gov/myncbi/m.%20brandon.westover.1/bibliography/public/?page=3\n",
      "https://www.ncbi.nlm.nih.gov/myncbi/m.%20brandon.westover.1/bibliography/public/?page=4\n",
      "https://www.ncbi.nlm.nih.gov/myncbi/m.%20brandon.westover.1/bibliography/public/?page=5\n",
      "https://www.ncbi.nlm.nih.gov/myncbi/m.%20brandon.westover.1/bibliography/public/?page=6\n",
      "https://www.ncbi.nlm.nih.gov/myncbi/m.%20brandon.westover.1/bibliography/public/?page=7\n"
     ]
    }
   ],
   "source": [
    "# run this to download and parse the publications \n",
    "import requests\n",
    "from bs4 import BeautifulSoup \n",
    "\n",
    "# there are 7 pages\n",
    "URL = \"https://www.ncbi.nlm.nih.gov/myncbi/m.%20brandon.westover.1/bibliography/public/?page=\" + str(1)\n",
    "# https://www.ncbi.nlm.nih.gov/myncbi/m.%20brandon.westover.1/bibliography/public/?page=1\n",
    "pubdata = []\n",
    "\n",
    "for i in range(1,8):\n",
    "    URL = \"https://www.ncbi.nlm.nih.gov/myncbi/m.%20brandon.westover.1/bibliography/public/?page=\" + str(i)\n",
    "    print(URL)\n",
    "    page = requests.get(URL)\n",
    "    soup = BeautifulSoup(page.text)\n",
    "    mydivs = soup.find_all(\"div\", {\"class\": \"ncbi-docsum\"})\n",
    "\n",
    "    for div in mydivs:\n",
    "        try:\n",
    "            thisdata = {}\n",
    "            thisdata[\"title\"] = \"\\\"\" + div.find(\"a\").text.strip() + \"\\\"\"\n",
    "            thisdata[\"image\"] = ''\n",
    "            thisdata[\"description\"] = ''\n",
    "            thisdata[\"authors\"] = div.find(\"span\", {\"class\": \"authors\"}).text.strip()\n",
    "            link = \"https://pubmed.ncbi.nlm.nih.gov/\" + div.find(\"a\").get(\"href\").replace(\"pubmed\", \"\").replace(\"/\",\"\")\n",
    "\n",
    "            junk_stuff = [\"source\", \"pubdate\", \"volume\", \"issue\", \"pages\", \"doi\", \"pubstatus\", \"pmid\", \"pmcid\"]\n",
    "            bigjunk = \"\"\n",
    "            for junk in junk_stuff:\n",
    "                try:\n",
    "                    bigjunk += div.find(\"span\", {\"class\": junk}).text.strip().replace(\"PubMed Central \",\"\").replace(\"PubMed \", \"\").replace(\"\\n\",\"\").replace(\"    \",\"\")+ \" \"\n",
    "                except:\n",
    "                    pass\n",
    "            display = bigjunk\n",
    "            \n",
    "            thisdata[\"link\"] = {\"url\": link, \"display\": display}\n",
    "            thisdata[\"highlight\"] = 0\n",
    "\n",
    "            pubdata.append(thisdata)\n",
    "        except:\n",
    "            pass\n",
    "\n",
    "# print(pubdata)\n",
    "\n"
   ]
  },
  {
   "cell_type": "code",
   "execution_count": 18,
   "id": "ffecd247",
   "metadata": {},
   "outputs": [],
   "source": [
    "# write yml file\n",
    "import yaml"
   ]
  },
  {
   "cell_type": "code",
   "execution_count": 19,
   "id": "47c23bba",
   "metadata": {},
   "outputs": [],
   "source": [
    "# - title: Development of expert-level automated detection of epileptiform discharges during electroencephalogram interpretation\n",
    "#   image: dummy.png\n",
    "#   description: \"A deep neural network was trained using 9571 scalp electroencephalogram recordings. The algorithm appeared to perform at or above the accuracy, sensitivity, and specificity of fellowship-trained clinical experts.\"\n",
    "#   authors:\n",
    "#     Jing J, Sun H, Kim JA, Herlopian A, Karakis I, Ng M, Halford JJ, Maus D, Chan F, Dolatshahi M, Muniz C, Chu C, Sacca V, Pathmanathan J, Ge W, Dauwels J, Lam A, Cole AJ, Cash SS, Westover MB.\n",
    "#   link:\n",
    "#     url: https://doi.org/10.1001/jamaneurol.2019.3485\n",
    "#     display: \"JAMA Neurology. 2020 Jan 1;77(1):103-8. doi: 10.1001/jamaneurol.2019.3485. PMID: 31633740 PMCID: PMC6806668.\"\n",
    "#   highlight: 0\n",
    "with open('result.yml', 'w') as yaml_file:\n",
    "    yaml.dump(pubdata, yaml_file, default_flow_style=False, sort_keys=False)\n"
   ]
  },
  {
   "cell_type": "code",
   "execution_count": 20,
   "id": "4cf95398",
   "metadata": {},
   "outputs": [],
   "source": [
    "# now create different yaml files for different topics\n",
    "import re"
   ]
  },
  {
   "cell_type": "code",
   "execution_count": 21,
   "id": "5713a959",
   "metadata": {},
   "outputs": [],
   "source": [
    "def writeNewYaml(topicName,pubdata,pat):\n",
    "    fileName = 'yaml' + topicName + '.yml'\n",
    "    fileName = '/Users/mbw/cdac Dropbox/brandon westover/0_GithubRepos/Webpage/bdsp-core.github.io/_data/' + fileName\n",
    "    pubdata2 = []\n",
    "    ct=0\n",
    "    for x in pubdata:\n",
    "        title = x[\"title\"]\n",
    "        if re.search(pat, title, re.IGNORECASE):\n",
    "            ct+=1\n",
    "            print(title)\n",
    "            pubdata2.append(x)\n",
    "    print(ct)\n",
    "    with open(fileName, 'w') as yaml_file:\n",
    "        yaml.dump(pubdata2, yaml_file, default_flow_style=False, sort_keys=False)"
   ]
  },
  {
   "cell_type": "code",
   "execution_count": 22,
   "id": "c658cffb",
   "metadata": {},
   "outputs": [
    {
     "name": "stdout",
     "output_type": "stream",
     "text": [
      "\"Linking brain structure, cognition, and sleep: insights from clinical data.\"\n",
      "\"Association Between Postoperative Delirium and Long-Term Subjective Cognitive Decline in Older Patients Undergoing Cardiac Surgery: A Secondary Analysis of the Minimizing Intensive Care Unit Neurological Dysfunction with Dexmedetomidine-Induced Sleep Trial.\"\n",
      "\"Cognitive concerns are a risk factor for mortality in people with HIV and coronavirus disease 2019.\"\n",
      "\"Decoding information about cognitive health from the brainwaves of sleep.\"\n",
      "\"Estimating the number of cases of dementia that might be prevented by preventing delirium.\"\n",
      "\"Dementia detection from brain activity during sleep.\"\n",
      "\"Optimal spindle detection parameters for predicting cognitive performance.\"\n",
      "\"HIV increases sleep-based brain age despite antiretroviral therapy.\"\n",
      "\"Focal Sleep Spindle Deficits Reveal Focal Thalamocortical Dysfunction and Predict Cognitive Deficits in Sleep Activated Developmental Epilepsy.\"\n",
      "\"Night-to-night variability of sleep electroencephalography-based brain age measurements.\"\n",
      "\"Association of epileptiform abnormalities and seizures in Alzheimer disease.\"\n",
      "\"Association of Sleep Electroencephalography-Based Brain Age Index With Dementia.\"\n",
      "\"Excess brain age in the sleep electroencephalogram predicts reduced life expectancy.\"\n",
      "\"Brain age from the electroencephalogram of sleep.\"\n",
      "14\n"
     ]
    }
   ],
   "source": [
    "# dementia \n",
    "topicName = 'dementia'\n",
    "pat = \"(dementia|alzheimer|mci|brain age|cognitive| cognition)\"\n",
    "writeNewYaml(topicName,pubdata,pat)"
   ]
  },
  {
   "cell_type": "code",
   "execution_count": 23,
   "id": "a61fa3d7",
   "metadata": {},
   "outputs": [
    {
     "name": "stdout",
     "output_type": "stream",
     "text": [
      "\"The International Cardiac Arrest Research Consortium Electroencephalography Database.\"\n",
      "\"Identifying inpatient hospitalizations with continuous electroencephalogram monitoring from administrative data.\"\n",
      "\"Real-World Continuous EEG Utilization and Outcomes in Hospitalized Patients With Acute Cerebrovascular Diseases.\"\n",
      "\"Automated detection of immune effector cell-associated neurotoxicity syndrome via quantitative EEG.\"\n",
      "\"The International Cardiac Arrest Research (I-CARE) Consortium Electroencephalography Database.\"\n",
      "\"A Real-Time Neurophysiologic Stress Test for the Aging Brain: Novel Perioperative and ICU Applications of EEG in Older Surgical Patients.\"\n",
      "\"Systematic Evaluation of Research Priorities in Critical Care Electroencephalography.\"\n",
      "\"Intraoperative electroencephalographic marker of preoperative frailty: A prospective cohort study.\"\n",
      "\"Identifying inpatient hospitalizations with continuous electroencephalogram monitoring from administrative data.\"\n",
      "\"Interrater Reliability of Expert Electroencephalographers Identifying Seizures and Rhythmic and Periodic Patterns in EEGs.\"\n",
      "\"Development of Expert-Level Classification of Seizures and Rhythmic and Periodic Patterns During EEG Interpretation.\"\n",
      "\"The sleep and wake electroencephalogram over the lifespan.\"\n",
      "\"Epilepsy diagnosis using a clinical decision tool and artificially intelligent electroencephalography.\"\n",
      "\"Quantitative epileptiform burden and electroencephalography background features predict post-traumatic epilepsy.\"\n",
      "\"Improving automated diagnosis of epilepsy from EEGs beyond IEDs.\"\n",
      "\"EEG-based grading of immune effector cell-associated neurotoxicity syndrome.\"\n",
      "\"Impact of the COVID-19 Pandemic on Continuous EEG Utilization.\"\n",
      "\"Automated EEG-based prediction of delayed cerebral ischemia after subarachnoid hemorrhage.\"\n",
      "\"Competency-based EEG education: a list of \"must-know\" EEG findings for adult and child neurology residents.\"\n",
      "\"EEG reading with or without clinical information - a real-world practice study.\"\n",
      "\"Anti-seizure medication treatment and outcomes in acute ischemic stroke patients undergoing continuous EEG monitoring.\"\n",
      "\"Neurological Prognostication After Hypoglycemic Coma: Role of Clinical and EEG Findings.\"\n",
      "\"Noninvasive Detection of Hippocampal Epileptiform Activity on Scalp Electroencephalogram.\"\n",
      "\"Antiseizure Medication Treatment and Outcomes in Patients with Subarachnoid Hemorrhage Undergoing Continuous EEG Monitoring.\"\n",
      "\"Predicting Neurological Outcome From Electroencephalogram Dynamics in Comatose Patients After Cardiac Arrest With Deep Learning.\"\n",
      "\"Accurate identification of EEG recordings with interictal epileptiform discharges using a hybrid approach: Artificial intelligence supervised by human experts.\"\n",
      "\"A Primer on EEG Spectrograms.\"\n",
      "\"The Utility of Quantitative EEG in Detecting Delayed Cerebral Ischemia After Aneurysmal Subarachnoid Hemorrhage.\"\n",
      "\"Combining Transcranial Doppler and EEG Data to Predict Delayed Cerebral Ischemia After Subarachnoid Hemorrhage.\"\n",
      "\"VE-CAM-S: Visual EEG-Based Grading of Delirium Severity and Associations With Clinical Outcomes.\"\n",
      "\"Physiological Assessment of Delirium Severity: The Electroencephalographic Confusion Assessment Method Severity Score (E-CAM-S).\"\n",
      "\"One EEG, one read - A manifesto towards reducing interrater variability among experts.\"\n",
      "\"Using electronic health data to explore effectiveness of ICU EEG and anti-seizure treatment.\"\n",
      "\"Electroencephalography, Hospital Complications, and Longitudinal Outcomes After Subarachnoid Hemorrhage.\"\n",
      "\"Time-Frequency Decomposition of Scalp Electroencephalograms Improves Deep Learning-Based Epilepsy Diagnosis.\"\n",
      "\"Clinical Electroencephalography Findings and Considerations in Hospitalized Patients With Coronavirus SARS-CoV-2.\"\n",
      "\"Electroencephalographic Abnormalities are Common in COVID-19 and are Associated with Outcomes.\"\n",
      "\"Automated Adult Epilepsy Diagnostic Tool Based on Interictal Scalp Electroencephalogram Characteristics: A Six-Center Study.\"\n",
      "\"Continuous EEG Findings in Autoimmune Encephalitis.\"\n",
      "\"Deep active learning for Interictal Ictal Injury Continuum EEG patterns.\"\n",
      "\"Assessment of a Study of Continuous vs Repeat-Spot Electroencephalography in Patients With Critical Illness.\"\n",
      "\"Night-to-night variability of sleep electroencephalography-based brain age measurements.\"\n",
      "\"Rapid annotation of seizures and interictal-ictal-injury continuum EEG patterns.\"\n",
      "\"American Clinical Neurophysiology Society's Standardized Critical Care EEG Terminology: 2021 Version.\"\n",
      "\"Expert-level automated sleep staging of long-term scalp electroencephalography recordings using deep learning.\"\n",
      "\"Automated Detection of Interictal Epileptiform Discharges from Scalp Electroencephalograms by Convolutional Neural Networks.\"\n",
      "\"Diagnostic Value of Electroencephalography with Ten Electrodes in Critically Ill Patients.\"\n",
      "\"Evaluating the Clinical Impact of Rapid Response Electroencephalography: The DECIDE Multicenter Prospective Observational Clinical Study.\"\n",
      "\"Association of Sleep Electroencephalography-Based Brain Age Index With Dementia.\"\n",
      "\"Cost-effectiveness analysis of multimodal prognostication in cardiac arrest with EEG monitoring.\"\n",
      "\"Electroencephalogram Burst-suppression during Cardiopulmonary Bypass in Elderly Patients Mediates Postoperative Delirium.\"\n",
      "\"MRI-EEG correlation for outcome prediction in postanoxic myoclonus: A multicenter study.\"\n",
      "\"Clinical Electroencephalography Findings and Considerations in Hospitalized Patients with Coronavirus SARS-CoV-2.\"\n",
      "\"Deep Learning for Interictal Epileptiform Spike Detection from scalp EEG frequency sub bands.\"\n",
      "\"Adaptive Sedation Monitoring From EEG in ICU Patients With Online Learning.\"\n",
      "\"Excess brain age in the sleep electroencephalogram predicts reduced life expectancy.\"\n",
      "\"Sensitivity of Continuous Electroencephalography to Detect Ictal Activity After Cardiac Arrest.\"\n",
      "\"EEG Functional Connectivity is a Weak Predictor of Causal Brain Interactions.\"\n",
      "\"Seizure tracking of epileptic EEGs using a model-driven approach.\"\n",
      "\"Interrater Reliability of Experts in Identifying Interictal Epileptiform Discharges in Electroencephalograms.\"\n",
      "\"Development of Expert-Level Automated Detection of Epileptiform Discharges During Electroencephalogram Interpretation.\"\n",
      "\"The probability of seizures during continuous EEG monitoring in high-risk neonates.\"\n",
      "\"Quantitative EEG reactivity and machine learning for prognostication in hypoxic-ischemic brain injury.\"\n",
      "\"A fast machine learning approach to facilitate the detection of interictal epileptiform discharges in the scalp electroencephalogram.\"\n",
      "\"Clinical EEG slowing correlates with delirium severity and predicts poor clinical outcomes.\"\n",
      "\"Drug-Specific Models Improve the Performance of an EEG-based Automated Brain-State Prediction System.\"\n",
      "\"The EEG Ictal-Interictal Continuum-A Metabolic Roar But a Whimper of a Functional Outcome.\"\n",
      "\"Resident training and interrater agreements using the ACNS critical care EEG terminology.\"\n",
      "\"Brain age from the electroencephalogram of sleep.\"\n",
      "\"Detecting abnormal electroencephalograms using deep convolutional networks.\"\n",
      "\"Electroencephalogram Based Detection of Deep Sedation in ICU Patients Using Atomic Decomposition.\"\n",
      "\"EEG Reactivity Evaluation Practices for Adult and Pediatric Hypoxic-Ischemic Coma Prognostication in North America.\"\n",
      "\"CLASSIFIER CASCADE TO AID IN DETECTION OF EPILEPTIFORM TRANSIENTS IN INTERICTAL EEG.\"\n",
      "\"Interictal Epileptiform Discharge Detection in EEG in Different Practice Settings.\"\n",
      "\"EEG findings in CAR T-cell therapy-related encephalopathy.\"\n",
      "\"EEG CLassification Via Convolutional Neural Network-Based Interictal Epileptiform Event Detection.\"\n",
      "\"Brain Monitoring of Sedation in the Intensive Care Unit Using a Recurrent Neural Network.\"\n",
      "\"Rapid Annotation of Seizures and Interictal-ictal Continuum EEG Patterns.\"\n",
      "\"Continuous electroencephalography predicts delayed cerebral ischemia after subarachnoid hemorrhage: A prospective study of diagnostic accuracy.\"\n",
      "\"Association of an Electroencephalography-Based Risk Score With Seizure Probability in Hospitalized Patients.\"\n",
      "\"Accuracy of Limited-Montage Electroencephalography in Monitoring Postanoxic Comatose Patients.\"\n",
      "\"Time-dependent risk of seizures in critically ill patients on continuous electroencephalogram.\"\n",
      "\"Performance of Spectrogram-Based Seizure Identification of Adult EEGs by Critical Care Nurses and Neurophysiologists.\"\n",
      "\"cEEG electrode-related pressure ulcers in acutely hospitalized patients.\"\n",
      "\"Continuous EEG monitoring enhances multimodal outcome prediction in hypoxic-ischemic brain injury.\"\n",
      "\"Sensitivity of quantitative EEG for seizure identification in the intensive care unit.\"\n",
      "\"Clinical Development and Implementation of an Institutional Guideline for Prospective EEG Monitoring and Reporting of Delayed Cerebral Ischemia.\"\n",
      "\"Metabolic Correlates of the Ictal-Interictal Continuum: FDG-PET During Continuous EEG.\"\n",
      "\"Automation of Classical QEEG Trending Methods for Early Detection of Delayed Cerebral Ischemia: More Work to Do.\"\n",
      "\"FAST AND EFFICIENT REJECTION OF BACKGROUND WAVEFORMS IN INTERICTAL EEG.\"\n",
      "\"Development and Feasibility Testing of a Critical Care EEG Monitoring Database for Standardized Clinical Reporting and Multicenter Collaborative Research.\"\n",
      "\"Response Rates to Anticonvulsant Trials in Patients with Triphasic-Wave EEG Patterns of Uncertain Significance.\"\n",
      "\"Quantification of EEG reactivity in comatose patients.\"\n",
      "\"The human burst suppression electroencephalogram of deep hypothermia.\"\n",
      "\"Age-dependency of sevoflurane-induced electroencephalogram dynamics in children.\"\n",
      "\"Characteristics and role in outcome prediction of continuous EEG after status epilepticus: A prospective observational cohort.\"\n",
      "\"The probability of seizures during EEG monitoring in critically ill adults.\"\n",
      "\"The standardization debate: A conflation trap in critical care electroencephalography.\"\n",
      "\"Automated information extraction from free-text EEG reports.\"\n",
      "\"Effects of sevoflurane and propofol on frontal electroencephalogram power and coherence.\"\n",
      "\"A comparison of propofol- and dexmedetomidine-induced electroencephalogram dynamics using spectral and coherence analysis.\"\n",
      "\"Interrater agreement for Critical Care EEG Terminology.\"\n",
      "\"Spectrogram screening of adult EEGs is sensitive and efficient.\"\n",
      "\"Burst suppression in sleep in a routine outpatient EEG.\"\n",
      "\"Inferring seizure frequency from brief EEG recordings.\"\n",
      "\"Real-time segmentation and tracking of brain metabolic state in ICU EEG recordings of burst suppression.\"\n",
      "\"Absence of early epileptiform abnormalities predicts lack of seizures on continuous EEG.\"\n",
      "\"Emergence of stable functional networks in long-term human electroencephalography.\"\n",
      "\"Data-driven modeling of sleep states from EEG.\"\n",
      "\"Characterizing brain cortical plasticity and network dynamics across the age-span in health and disease with TMS-EEG and TMS-fMRI.\"\n",
      "110\n"
     ]
    }
   ],
   "source": [
    "# EEG \n",
    "topicName = 'eeg'\n",
    "pat = \"(eeg|electroencephal|ceeg|brain monitoring)\"\n",
    "writeNewYaml(topicName,pubdata,pat)"
   ]
  },
  {
   "cell_type": "code",
   "execution_count": 24,
   "id": "c1c7fe29",
   "metadata": {},
   "outputs": [
    {
     "name": "stdout",
     "output_type": "stream",
     "text": [
      "\"Association Between Postoperative Delirium and Long-Term Subjective Cognitive Decline in Older Patients Undergoing Cardiac Surgery: A Secondary Analysis of the Minimizing Intensive Care Unit Neurological Dysfunction with Dexmedetomidine-Induced Sleep Trial.\"\n",
      "\"Nighttime dexmedetomidine for delirium prevention in non-mechanically ventilated patients after cardiac surgery (MINDDS): A single-centre, parallel-arm, randomised, placebo-controlled superiority trial.\"\n",
      "\"Monitoring of sedation in mechanically ventilated patients using remote technology.\"\n",
      "\"Improved tracking of sevoflurane anesthetic states with drug-specific machine learning models.\"\n",
      "\"Adaptive Sedation Monitoring From EEG in ICU Patients With Online Learning.\"\n",
      "\"Electroencephalogram Based Detection of Deep Sedation in ICU Patients Using Atomic Decomposition.\"\n",
      "\"Brain Monitoring of Sedation in the Intensive Care Unit Using a Recurrent Neural Network.\"\n",
      "\"Minimizing ICU Neurological Dysfunction with Dexmedetomidine-induced Sleep (MINDDS): protocol for a randomised, double-blind, parallel-arm, placebo-controlled trial.\"\n",
      "\"Patient-Specific Classification of ICU Sedation Levels From Heart Rate Variability.\"\n",
      "\"Automatic Classification of Sedation Levels in ICU Patients Using Heart Rate Variability.\"\n",
      "\"Heart rate variability as a biomarker for sedation depth estimation in ICU patients.\"\n",
      "\"Age-dependency of sevoflurane-induced electroencephalogram dynamics in children.\"\n",
      "\"Propofol and sevoflurane induce distinct burst suppression patterns in rats.\"\n",
      "\"Effects of sevoflurane and propofol on frontal electroencephalogram power and coherence.\"\n",
      "\"A comparison of propofol- and dexmedetomidine-induced electroencephalogram dynamics using spectral and coherence analysis.\"\n",
      "15\n"
     ]
    }
   ],
   "source": [
    "# sedation and anesthesia\n",
    "topicName = 'sedationAndAnesthesia'\n",
    "pat = \"(sedation|Anesthesia|Propofol|dexmed|sevoflurane|propofol|anesthesia|anesthes)\"\n",
    "writeNewYaml(topicName,pubdata,pat)"
   ]
  },
  {
   "cell_type": "code",
   "execution_count": 25,
   "id": "aa777ff7",
   "metadata": {},
   "outputs": [
    {
     "name": "stdout",
     "output_type": "stream",
     "text": [
      "\"Sleep staging in the ICU with heart rate variability and breathing signals. An exploratory cross-sectional study using deep neural networks.\"\n",
      "\"Automatic Detection of General Anesthetic-States using ECG-Derived Autonomic Nervous System Features.\"\n",
      "\"ADARRI: a novel method to detect spurious R-peaks in the electrocardiogram for heart rate variability analysis in the intensive care unit.\"\n",
      "\"Patient-Specific Classification of ICU Sedation Levels From Heart Rate Variability.\"\n",
      "\"Automatic Classification of Sedation Levels in ICU Patients Using Heart Rate Variability.\"\n",
      "\"Heart rate variability as a biomarker for sedation depth estimation in ICU patients.\"\n",
      "6\n"
     ]
    }
   ],
   "source": [
    "# HRV and ECG \n",
    "topicName = 'HRV_ECG'\n",
    "pat = \"(ECG|heart rate variability|hrv)\"\n",
    "writeNewYaml(topicName,pubdata,pat)"
   ]
  },
  {
   "cell_type": "code",
   "execution_count": 26,
   "id": "e4f8f3e1",
   "metadata": {},
   "outputs": [
    {
     "name": "stdout",
     "output_type": "stream",
     "text": [
      "\"Brain health scores to predict neurological outcomes from electronic health records.\"\n",
      "\"Improving Neurology Clinical Care With Natural Language Processing Tools.\"\n",
      "\"Identifying inpatient hospitalizations with continuous electroencephalogram monitoring from administrative data.\"\n",
      "\"Identification of patients with epilepsy using automated electronic health records phenotyping.\"\n",
      "\"Identifying inpatient hospitalizations with continuous electroencephalogram monitoring from administrative data.\"\n",
      "\"Classification of neurologic outcomes from medical notes using natural language processing.\"\n",
      "\"A replicable, open-source, data integration method to support national practice-based research & quality improvement systems.\"\n",
      "\"Identifying Patients With Delirium Based on Unstructured Clinical Notes: Observational Study.\"\n",
      "\"Classification of the Disposition of Patients Hospitalized with COVID-19: Reading Discharge Summaries Using Natural Language Processing.\"\n",
      "\"Predicting drug-resistant epilepsy - A machine learning approach based on administrative claims data.\"\n",
      "\"Automated information extraction from free-text EEG reports.\"\n",
      "11\n"
     ]
    }
   ],
   "source": [
    "# EHR phenotyping\n",
    "topicName = 'ehrPhenotyping'\n",
    "pat = \"(NLP|electronic health record|natural language|Free-Text|Medical Notes|data integration method|Natural Language Processing|Clinical Notes|administrative)\"\n",
    "writeNewYaml(topicName,pubdata,pat)"
   ]
  },
  {
   "cell_type": "code",
   "execution_count": 27,
   "id": "6b406446",
   "metadata": {},
   "outputs": [
    {
     "name": "stdout",
     "output_type": "stream",
     "text": [
      "\"How Many Patients Do You Need? Investigating Trial Designs for Anti-Seizure Treatment in Acute Brain Injury Patients.\"\n",
      "\"Association of Early Seizure Prophylaxis With Posttraumatic Seizures and Mortality: A Meta-analysis With Evidence Quality Assessment.\"\n",
      "\"Spike height improves prediction of future seizure risk.\"\n",
      "\"Interrater Reliability of Expert Electroencephalographers Identifying Seizures and Rhythmic and Periodic Patterns in EEGs.\"\n",
      "\"Development of Expert-Level Classification of Seizures and Rhythmic and Periodic Patterns During EEG Interpretation.\"\n",
      "\"Flexible realistic simulation of seizure occurrence recapitulating statistical properties of seizure diaries.\"\n",
      "\"Implications of stimulus-induced, rhythmic, periodic, or ictal discharges (SIRPIDs) in hospitalized patients.\"\n",
      "\"Anti-seizure medication treatment and outcomes in acute ischemic stroke patients undergoing continuous EEG monitoring.\"\n",
      "\"Measuring expertise in identifying interictal epileptiform discharges.\"\n",
      "\"Antiseizure Medication Treatment and Outcomes in Patients with Subarachnoid Hemorrhage Undergoing Continuous EEG Monitoring.\"\n",
      "\"Accurate identification of EEG recordings with interictal epileptiform discharges using a hybrid approach: Artificial intelligence supervised by human experts.\"\n",
      "\"Quantifying seizure termination patterns reveals limited pathways to seizure end.\"\n",
      "\"Using electronic health data to explore effectiveness of ICU EEG and anti-seizure treatment.\"\n",
      "\"Do Triphasic Waves and Nonconvulsive Status Epilepticus Arise From Similar Mechanisms? A Computational Model.\"\n",
      "\"Seizure Prophylaxis After Spontaneous Intracerebral Hemorrhage.\"\n",
      "\"Responsive neurostimulation for focal motor status epilepticus.\"\n",
      "\"Automated Adult Epilepsy Diagnostic Tool Based on Interictal Scalp Electroencephalogram Characteristics: A Six-Center Study.\"\n",
      "\"Deep active learning for Interictal Ictal Injury Continuum EEG patterns.\"\n",
      "\"DDESVSFS: A simple, rapid and comprehensive screening tool for the Differential Diagnosis of Epileptic Seizures VS Functional Seizures.\"\n",
      "\"Rapid annotation of seizures and interictal-ictal-injury continuum EEG patterns.\"\n",
      "\"Automated Detection of Interictal Epileptiform Discharges from Scalp Electroencephalograms by Convolutional Neural Networks.\"\n",
      "\"Association of epileptiform abnormalities and seizures in Alzheimer disease.\"\n",
      "\"A Theoretical Paradigm for Evaluating Risk-Benefit of Status Epilepticus Treatment.\"\n",
      "\"Development and Validation of Forecasting Next Reported Seizure Using e-Diaries.\"\n",
      "\"A New Neural Mass Model Driven Method and Its Application in Early Epileptic Seizure Detection.\"\n",
      "\"Detecting Seizures and Epileptiform Abnormalities in Acute Brain Injury.\"\n",
      "\"Deep Learning for Interictal Epileptiform Spike Detection from scalp EEG frequency sub bands.\"\n",
      "\"Sensitivity of Continuous Electroencephalography to Detect Ictal Activity After Cardiac Arrest.\"\n",
      "\"Electrographic predictors of successful weaning from anaesthetics in refractory status epilepticus.\"\n",
      "\"Assessment of the Validity of the 2HELPS2B Score for Inpatient Seizure Risk Prediction.\"\n",
      "\"Seizure tracking of epileptic EEGs using a model-driven approach.\"\n",
      "\"Interrater Reliability of Experts in Identifying Interictal Epileptiform Discharges in Electroencephalograms.\"\n",
      "\"The probability of seizures during continuous EEG monitoring in high-risk neonates.\"\n",
      "\"A fast machine learning approach to facilitate the detection of interictal epileptiform discharges in the scalp electroencephalogram.\"\n",
      "\"Commentary on \"Predicting seizure freedom after epilepsy surgery, a challenge in clinical practice\".\"\n",
      "\"Comparison of machine learning models for seizure prediction in hospitalized patients.\"\n",
      "\"The EEG Ictal-Interictal Continuum-A Metabolic Roar But a Whimper of a Functional Outcome.\"\n",
      "\"Bilateral independent periodic discharges are associated with electrographic seizures and poor outcome: A case-control study.\"\n",
      "\"Variability in pharmacologically-induced coma for treatment of refractory status epilepticus.\"\n",
      "\"Antiepileptic drug treatment after an unprovoked first seizure: A decision analysis.\"\n",
      "\"CLASSIFIER CASCADE TO AID IN DETECTION OF EPILEPTIFORM TRANSIENTS IN INTERICTAL EEG.\"\n",
      "\"Interictal Epileptiform Discharge Detection in EEG in Different Practice Settings.\"\n",
      "\"EEG CLassification Via Convolutional Neural Network-Based Interictal Epileptiform Event Detection.\"\n",
      "\"Rapid Annotation of Seizures and Interictal-ictal Continuum EEG Patterns.\"\n",
      "\"Randomized trial of lacosamide versus fosphenytoin for nonconvulsive seizures.\"\n",
      "\"Association of an Electroencephalography-Based Risk Score With Seizure Probability in Hospitalized Patients.\"\n",
      "\"Interictal epileptiform discharge characteristics underlying expert interrater agreement.\"\n",
      "\"Time-dependent risk of seizures in critically ill patients on continuous electroencephalogram.\"\n",
      "\"Performance of Spectrogram-Based Seizure Identification of Adult EEGs by Critical Care Nurses and Neurophysiologists.\"\n",
      "\"Rapid annotation of interictal epileptiform discharges via template matching under Dynamic Time Warping.\"\n",
      "\"Therapeutic coma for status epilepticus: Differing practices in a prospective multicenter study.\"\n",
      "\"Sensitivity of quantitative EEG for seizure identification in the intensive care unit.\"\n",
      "\"Metabolic Correlates of the Ictal-Interictal Continuum: FDG-PET During Continuous EEG.\"\n",
      "\"CLUSTERING OF INTERICTAL SPIKES BY DYNAMIC TIME WARPING AND AFFINITY PROPAGATION.\"\n",
      "\"FAST AND EFFICIENT REJECTION OF BACKGROUND WAVEFORMS IN INTERICTAL EEG.\"\n",
      "\"New-onset refractory status epilepticus: Etiology, clinical features, and outcome.\"\n",
      "\"The number of seizures needed in the EMU.\"\n",
      "\"Practice variability and efficacy of clonazepam, lorazepam, and midazolam in status epilepticus: A multicenter comparison.\"\n",
      "\"Characteristics and role in outcome prediction of continuous EEG after status epilepticus: A prospective observational cohort.\"\n",
      "\"The probability of seizures during EEG monitoring in critically ill adults.\"\n",
      "\"High risk for seizures following subarachnoid hemorrhage regardless of referral bias.\"\n",
      "\"Evaluation of a clinical tool for early etiology identification in status epilepticus.\"\n",
      "\"Treating seizures in Creutzfeldt-Jakob disease.\"\n",
      "\"Sensitivity of compressed spectral arrays for detecting seizures in acutely ill adults.\"\n",
      "\"SpikeGUI: software for rapid interictal discharge annotation via template matching and online machine learning.\"\n",
      "\"Calculating the risk benefit equation for aggressive treatment of non-convulsive status epilepticus.\"\n",
      "\"Inferring seizure frequency from brief EEG recordings.\"\n",
      "\"Absence of early epileptiform abnormalities predicts lack of seizures on continuous EEG.\"\n",
      "\"Revising the \"Rule of Three\" for inferring seizure freedom.\"\n",
      "69\n"
     ]
    }
   ],
   "source": [
    "# seizures \n",
    "topicName = 'seizures'\n",
    "pat = \"(seizure|epilepticus|ictal )\"\n",
    "writeNewYaml(topicName,pubdata,pat)"
   ]
  },
  {
   "cell_type": "code",
   "execution_count": 28,
   "id": "b89164fd",
   "metadata": {},
   "outputs": [
    {
     "name": "stdout",
     "output_type": "stream",
     "text": [
      "\"An examination of sleep spindle metrics in the Sleep Heart Health Study: superiority of automated spindle detection over total sigma power in assessing age-related spindle decline.\"\n",
      "\"Automated detection of immune effector cell-associated neurotoxicity syndrome via quantitative EEG.\"\n",
      "\"Identification of patients with epilepsy using automated electronic health records phenotyping.\"\n",
      "\"Exploiting labels from multiple experts in automated sleep scoring.\"\n",
      "\"Epilepsy diagnosis using a clinical decision tool and artificially intelligent electroencephalography.\"\n",
      "\"Sample Size Analysis for Machine Learning Clinical Validation Studies.\"\n",
      "\"Improving automated diagnosis of epilepsy from EEGs beyond IEDs.\"\n",
      "\"Automated EEG-based prediction of delayed cerebral ischemia after subarachnoid hemorrhage.\"\n",
      "\"How Machine Learning is Powering Neuroimaging to Improve Brain Health.\"\n",
      "\"Artificial intelligence foundation for therapeutic science.\"\n",
      "\"Automated Scoring of Respiratory Events in Sleep With a Single Effort Belt and Deep Neural Networks.\"\n",
      "\"Predicting Neurological Outcome From Electroencephalogram Dynamics in Comatose Patients After Cardiac Arrest With Deep Learning.\"\n",
      "\"Accurate identification of EEG recordings with interictal epileptiform discharges using a hybrid approach: Artificial intelligence supervised by human experts.\"\n",
      "\"A machine learning approach to predict progression on active surveillance for prostate cancer.\"\n",
      "\"Time-Frequency Decomposition of Scalp Electroencephalograms Improves Deep Learning-Based Epilepsy Diagnosis.\"\n",
      "\"Automated Annotation of Epileptiform Burden and Its Association with Outcomes.\"\n",
      "\"Development and Prospective Validation of a Deep Learning Algorithm for Predicting Need for Mechanical Ventilation.\"\n",
      "\"Automated Adult Epilepsy Diagnostic Tool Based on Interictal Scalp Electroencephalogram Characteristics: A Six-Center Study.\"\n",
      "\"Deep active learning for Interictal Ictal Injury Continuum EEG patterns.\"\n",
      "\"Expert-level automated sleep staging of long-term scalp electroencephalography recordings using deep learning.\"\n",
      "\"Automated Detection of Interictal Epileptiform Discharges from Scalp Electroencephalograms by Convolutional Neural Networks.\"\n",
      "\"Improved tracking of sevoflurane anesthetic states with drug-specific machine learning models.\"\n",
      "\"Sleep staging from electrocardiography and respiration with deep learning.\"\n",
      "\"Deep Learning for Interictal Epileptiform Spike Detection from scalp EEG frequency sub bands.\"\n",
      "\"Development and Prospective Validation of a Transparent Deep Learning Algorithm for Predicting Need for Mechanical Ventilation.\"\n",
      "\"Adaptive Sedation Monitoring From EEG in ICU Patients With Online Learning.\"\n",
      "\"Physiology as a Lingua Franca for Clinical Machine Learning.\"\n",
      "\"Artificial intelligence in sleep medicine: background and implications for clinicians.\"\n",
      "\"Artificial intelligence in sleep medicine: an American Academy of Sleep Medicine position statement.\"\n",
      "\"Detection of mesial temporal lobe epileptiform discharges on intracranial electrodes using deep learning.\"\n",
      "\"Development of Expert-Level Automated Detection of Epileptiform Discharges During Electroencephalogram Interpretation.\"\n",
      "\"Quantitative EEG reactivity and machine learning for prognostication in hypoxic-ischemic brain injury.\"\n",
      "\"A fast machine learning approach to facilitate the detection of interictal epileptiform discharges in the scalp electroencephalogram.\"\n",
      "\"Automated tracking of level of consciousness and delirium in critical illness using deep learning.\"\n",
      "\"Drug-Specific Models Improve the Performance of an EEG-based Automated Brain-State Prediction System.\"\n",
      "\"Comparison of machine learning models for seizure prediction in hospitalized patients.\"\n",
      "\"Predicting drug-resistant epilepsy - A machine learning approach based on administrative claims data.\"\n",
      "\"Real-Time, Automated Detection of Ventilator-Associated Events: Avoiding Missed Detections, Misclassifications, and False Detections Due to Human Error.\"\n",
      "\"Large-Scale Automated Sleep Staging.\"\n",
      "\"Automated epileptiform spike detection via affinity propagation-based template matching.\"\n",
      "\"Automated information extraction from free-text EEG reports.\"\n",
      "\"Spatial variation in automated burst suppression detection in pharmacologically induced coma.\"\n",
      "\"Sparse extreme learning machine for classification.\"\n",
      "\"Automated sleep apnea quantification based on respiratory movement.\"\n",
      "\"SpikeGUI: software for rapid interictal discharge annotation via template matching and online machine learning.\"\n",
      "\"Automated surveillance for central line-associated bloodstream infection in intensive care units.\"\n",
      "46\n"
     ]
    }
   ],
   "source": [
    "# ML and AI \n",
    "topicName = 'ML_AI'\n",
    "pat = \"(machine learning|artificial|deep learning|automated|learning)\"\n",
    "writeNewYaml(topicName,pubdata,pat)"
   ]
  },
  {
   "cell_type": "code",
   "execution_count": 30,
   "id": "49c2c007",
   "metadata": {},
   "outputs": [
    {
     "name": "stdout",
     "output_type": "stream",
     "text": [
      "\"Addressing Big Data Time Series: Mining Trillions of Time Series Subsequences Under Dynamic Time Warping.\"\n",
      "\"Searching and Mining Trillions of Time Series Subsequences under Dynamic Time Warping.\"\n",
      "\"Exact Discovery of Time Series Motifs.\"\n",
      "3\n"
     ]
    }
   ],
   "source": [
    "# timeseries \n",
    "topicName = 'timeSeries'\n",
    "pat = \"(Time Series|trillion|motif|Time Series|Keogh)\"\n",
    "writeNewYaml(topicName,pubdata,pat)"
   ]
  },
  {
   "cell_type": "code",
   "execution_count": null,
   "id": "05515fb4",
   "metadata": {},
   "outputs": [],
   "source": []
  },
  {
   "cell_type": "code",
   "execution_count": 31,
   "id": "9b7296a4",
   "metadata": {},
   "outputs": [
    {
     "name": "stdout",
     "output_type": "stream",
     "text": [
      "\"Increased task-relevant fMRI responsiveness in comatose cardiac arrest patients is associated with improved neurologic outcomes.\"\n",
      "\"Automated detection of immune effector cell-associated neurotoxicity syndrome via quantitative EEG.\"\n",
      "\"Association Between Postoperative Delirium and Long-Term Subjective Cognitive Decline in Older Patients Undergoing Cardiac Surgery: A Secondary Analysis of the Minimizing Intensive Care Unit Neurological Dysfunction with Dexmedetomidine-Induced Sleep Trial.\"\n",
      "\"Associations between early in-hospital medications and the development of delirium in patients with stroke.\"\n",
      "\"Preoperative Plasma Tau-PT217 and Tau-PT181 Are Associated With Postoperative Delirium.\"\n",
      "\"Intraoperative electroencephalographic marker of preoperative frailty: A prospective cohort study.\"\n",
      "\"Estimating the number of cases of dementia that might be prevented by preventing delirium.\"\n",
      "\"Association of Epileptiform Activity With Outcomes in Toxic-Metabolic Encephalopathy.\"\n",
      "\"Nighttime dexmedetomidine for delirium prevention in non-mechanically ventilated patients after cardiac surgery (MINDDS): A single-centre, parallel-arm, randomised, placebo-controlled superiority trial.\"\n",
      "\"EEG-based grading of immune effector cell-associated neurotoxicity syndrome.\"\n",
      "\"Forecasting immune effector cell-associated neurotoxicity syndrome after chimeric antigen receptor t-cell therapy.\"\n",
      "\"Hospital complications among older adults: Better processes could reduce the risk of delirium.\"\n",
      "\"Neurological Prognostication After Hypoglycemic Coma: Role of Clinical and EEG Findings.\"\n",
      "\"Identifying Patients With Delirium Based on Unstructured Clinical Notes: Observational Study.\"\n",
      "\"Predicting Neurological Outcome From Electroencephalogram Dynamics in Comatose Patients After Cardiac Arrest With Deep Learning.\"\n",
      "\"VE-CAM-S: Visual EEG-Based Grading of Delirium Severity and Associations With Clinical Outcomes.\"\n",
      "\"Physiological Assessment of Delirium Severity: The Electroencephalographic Confusion Assessment Method Severity Score (E-CAM-S).\"\n",
      "\"ICU delirium burden predicts functional neurologic outcomes.\"\n",
      "\"Predicting neurological outcome in comatose patients after cardiac arrest with multiscale deep neural networks.\"\n",
      "\"Postoperative delirium mediates 180-day mortality in orthopaedic trauma patients.\"\n",
      "\"Clinical, Imaging, and Lab Correlates of Severe COVID-19 Leukoencephalopathy.\"\n",
      "\"Electroencephalogram Burst-suppression during Cardiopulmonary Bypass in Elderly Patients Mediates Postoperative Delirium.\"\n",
      "\"A novel neural computational model of generalized periodic discharges in acute hepatic encephalopathy.\"\n",
      "\"Clinical EEG slowing correlates with delirium severity and predicts poor clinical outcomes.\"\n",
      "\"Automated tracking of level of consciousness and delirium in critical illness using deep learning.\"\n",
      "\"A Systematic Review and Meta-Analysis Examining the Impact of Sleep Disturbance on Postoperative Delirium.\"\n",
      "\"EEG Reactivity Evaluation Practices for Adult and Pediatric Hypoxic-Ischemic Coma Prognostication in North America.\"\n",
      "\"Variability in pharmacologically-induced coma for treatment of refractory status epilepticus.\"\n",
      "\"EEG findings in CAR T-cell therapy-related encephalopathy.\"\n",
      "\"A Mean Field Model of Acute Hepatic Encephalopathy.\"\n",
      "\"Minimizing ICU Neurological Dysfunction with Dexmedetomidine-induced Sleep (MINDDS): protocol for a randomised, double-blind, parallel-arm, placebo-controlled trial.\"\n",
      "\"Accuracy of Limited-Montage Electroencephalography in Monitoring Postanoxic Comatose Patients.\"\n",
      "\"Design, implementation, and evaluation of a physiological closed-loop control device for medically-induced coma.\"\n",
      "\"Therapeutic coma for status epilepticus: Differing practices in a prospective multicenter study.\"\n",
      "\"Quantification of EEG reactivity in comatose patients.\"\n",
      "\"Robust control of burst suppression for medical coma.\"\n",
      "\"An enhanced cerebral recovery index for coma prognostication following cardiac arrest.\"\n",
      "\"Spatial variation in automated burst suppression detection in pharmacologically induced coma.\"\n",
      "\"Real-time closed-loop control in a rodent model of medically induced coma using burst suppression.\"\n",
      "39\n"
     ]
    }
   ],
   "source": [
    "# encephalopathy and delirium\n",
    "topicName = 'delirium'\n",
    "pat = \"(delirium|encephalopathy|ICU Neurological Dysfunction|frailty|neurotoxicity|coma)\"\n",
    "writeNewYaml(topicName,pubdata,pat)"
   ]
  },
  {
   "cell_type": "code",
   "execution_count": 32,
   "id": "500dce8e",
   "metadata": {},
   "outputs": [
    {
     "name": "stdout",
     "output_type": "stream",
     "text": [
      "\"Automated EEG-based prediction of delayed cerebral ischemia after subarachnoid hemorrhage.\"\n",
      "\"High epileptiform discharge burden predicts delayed cerebral ischemia after subarachnoid hemorrhage.\"\n",
      "\"Antiseizure Medication Treatment and Outcomes in Patients with Subarachnoid Hemorrhage Undergoing Continuous EEG Monitoring.\"\n",
      "\"The Utility of Quantitative EEG in Detecting Delayed Cerebral Ischemia After Aneurysmal Subarachnoid Hemorrhage.\"\n",
      "\"Combining Transcranial Doppler and EEG Data to Predict Delayed Cerebral Ischemia After Subarachnoid Hemorrhage.\"\n",
      "\"Electroencephalography, Hospital Complications, and Longitudinal Outcomes After Subarachnoid Hemorrhage.\"\n",
      "\"Soluble ST2 Is Associated With New Epileptiform Abnormalities Following Nontraumatic Subarachnoid Hemorrhage.\"\n",
      "\"Effect of epileptiform abnormality burden on neurologic outcome and antiepileptic drug management after subarachnoid hemorrhage.\"\n",
      "\"Continuous electroencephalography predicts delayed cerebral ischemia after subarachnoid hemorrhage: A prospective study of diagnostic accuracy.\"\n",
      "\"Electronic Health Data Predict Outcomes After Aneurysmal Subarachnoid Hemorrhage.\"\n",
      "\"Epileptiform abnormalities predict delayed cerebral ischemia in subarachnoid hemorrhage.\"\n",
      "\"Recording, analysis, and interpretation of spreading depolarizations in neurointensive care: Review and recommendations of the COSBID research group.\"\n",
      "\"The continuum of spreading depolarizations in acute cortical lesion development: Examining Leão's legacy.\"\n",
      "\"Default Mode Network Perfusion in Aneurysmal Subarachnoid Hemorrhage.\"\n",
      "\"Clinical Development and Implementation of an Institutional Guideline for Prospective EEG Monitoring and Reporting of Delayed Cerebral Ischemia.\"\n",
      "\"Not a Simple Plumbing Problem: Updating Our Understanding of Delayed Cerebral Ischemia in Aneurysmal Subarachnoid Hemorrhage.\"\n",
      "\"Interrater Agreement for Consensus Definitions of Delayed Ischemic Events After Aneurysmal Subarachnoid Hemorrhage.\"\n",
      "\"Automation of Classical QEEG Trending Methods for Early Detection of Delayed Cerebral Ischemia: More Work to Do.\"\n",
      "\"High risk for seizures following subarachnoid hemorrhage regardless of referral bias.\"\n",
      "19\n"
     ]
    }
   ],
   "source": [
    "# subarachnoid hemorrhage\n",
    "topicName = 'SAH'\n",
    "pat = \"(subarachnoid|delayed cerebral ischemia|aneurysmal subarachnoid|spreading depol)\"\n",
    "writeNewYaml(topicName,pubdata,pat)"
   ]
  },
  {
   "cell_type": "code",
   "execution_count": 33,
   "id": "9ebc4dd3",
   "metadata": {},
   "outputs": [
    {
     "name": "stdout",
     "output_type": "stream",
     "text": [
      "\"Interrater Reliability of Expert Electroencephalographers Identifying Seizures and Rhythmic and Periodic Patterns in EEGs.\"\n",
      "\"Development of Expert-Level Classification of Seizures and Rhythmic and Periodic Patterns During EEG Interpretation.\"\n",
      "\"Implications of stimulus-induced, rhythmic, periodic, or ictal discharges (SIRPIDs) in hospitalized patients.\"\n",
      "\"Deep active learning for Interictal Ictal Injury Continuum EEG patterns.\"\n",
      "\"Rapid annotation of seizures and interictal-ictal-injury continuum EEG patterns.\"\n",
      "\"A New Neural Mass Model Driven Method and Its Application in Early Epileptic Seizure Detection.\"\n",
      "\"Seizure tracking of epileptic EEGs using a model-driven approach.\"\n",
      "\"Rapid Annotation of Seizures and Interictal-ictal Continuum EEG Patterns.\"\n",
      "8\n"
     ]
    }
   ],
   "source": [
    "# detection of seizures and IIIC\n",
    "topicName = 'szIIIC'\n",
    "pat = \"(Interictal-ictal Continuum|Seizure tracking|Injury Continuum|Rhythmic and Periodic|rhythmic, periodic|SIRPID|Seizure Detection)\"\n",
    "writeNewYaml(topicName,pubdata,pat)"
   ]
  },
  {
   "cell_type": "code",
   "execution_count": 34,
   "id": "be31b74f",
   "metadata": {},
   "outputs": [
    {
     "name": "stdout",
     "output_type": "stream",
     "text": [
      "\"Quantitative epileptiform burden and electroencephalography background features predict post-traumatic epilepsy.\"\n",
      "\"Automated Annotation of Epileptiform Burden and Its Association with Outcomes.\"\n",
      "\"Burden of Epileptiform Activity Predicts Discharge Neurologic Outcomes in Severe Acute Ischemic Stroke.\"\n",
      "\"Lateralized periodic discharges frequency correlates with glucose metabolism.\"\n",
      "\"Bilateral independent periodic discharges are associated with electrographic seizures and poor outcome: A case-control study.\"\n",
      "\"Neuroimaging Correlates of Periodic Discharges.\"\n",
      "\"Metabolic Correlates of the Ictal-Interictal Continuum: FDG-PET During Continuous EEG.\"\n",
      "7\n"
     ]
    }
   ],
   "source": [
    "# consequences of seizures and IIIC\n",
    "topicName = 'szIIIC_harm'\n",
    "pat = \"(associated with electrographic seizures|Correlates of Periodic Discharges|Discharges Frequency Correlates|Burden of epileptiform activity|Epileptiform Burden|Correlates of the Ictal-Interictal)\"\n",
    "writeNewYaml(topicName,pubdata,pat)"
   ]
  },
  {
   "cell_type": "code",
   "execution_count": 35,
   "id": "eba46f22",
   "metadata": {},
   "outputs": [
    {
     "name": "stdout",
     "output_type": "stream",
     "text": [
      "\"Do Triphasic Waves and Nonconvulsive Status Epilepticus Arise From Similar Mechanisms? A Computational Model.\"\n",
      "\"Generalized periodic discharges with triphasic morphology: to treat or not to treat?.\"\n",
      "\"A Mean Field Model of Acute Hepatic Encephalopathy.\"\n",
      "\"Response Rates to Anticonvulsant Trials in Patients with Triphasic-Wave EEG Patterns of Uncertain Significance.\"\n",
      "4\n"
     ]
    }
   ],
   "source": [
    "# triphasic waves\n",
    "topicName = 'tpw'\n",
    "pat = \"(triphasic|Mean Field Model of Acute Hepatic Encephalopathy)\"\n",
    "writeNewYaml(topicName,pubdata,pat)"
   ]
  },
  {
   "cell_type": "code",
   "execution_count": 36,
   "id": "7f1b816b",
   "metadata": {},
   "outputs": [
    {
     "name": "stdout",
     "output_type": "stream",
     "text": [
      "\"Do Triphasic Waves and Nonconvulsive Status Epilepticus Arise From Similar Mechanisms? A Computational Model.\"\n",
      "\"Responsive neurostimulation for focal motor status epilepticus.\"\n",
      "\"A Theoretical Paradigm for Evaluating Risk-Benefit of Status Epilepticus Treatment.\"\n",
      "\"Electrographic predictors of successful weaning from anaesthetics in refractory status epilepticus.\"\n",
      "\"Variability in pharmacologically-induced coma for treatment of refractory status epilepticus.\"\n",
      "\"Therapeutic coma for status epilepticus: Differing practices in a prospective multicenter study.\"\n",
      "\"New-onset refractory status epilepticus: Etiology, clinical features, and outcome.\"\n",
      "\"Practice variability and efficacy of clonazepam, lorazepam, and midazolam in status epilepticus: A multicenter comparison.\"\n",
      "\"Characteristics and role in outcome prediction of continuous EEG after status epilepticus: A prospective observational cohort.\"\n",
      "\"Evaluation of a clinical tool for early etiology identification in status epilepticus.\"\n",
      "\"Calculating the risk benefit equation for aggressive treatment of non-convulsive status epilepticus.\"\n",
      "11\n"
     ]
    }
   ],
   "source": [
    "# status\n",
    "topicName = 'statusEpilepticus'\n",
    "pat = \"(epilepticus|status)\"\n",
    "writeNewYaml(topicName,pubdata,pat)"
   ]
  },
  {
   "cell_type": "code",
   "execution_count": 37,
   "id": "9c886312",
   "metadata": {},
   "outputs": [
    {
     "name": "stdout",
     "output_type": "stream",
     "text": [
      "\"Systematic Evaluation of Research Priorities in Critical Care Electroencephalography.\"\n",
      "\"High incidence of epileptiform activity in adults undergoing extracorporeal membrane oxygenation.\"\n",
      "\"Using electronic health data to explore effectiveness of ICU EEG and anti-seizure treatment.\"\n",
      "\"Assessment of a Study of Continuous vs Repeat-Spot Electroencephalography in Patients With Critical Illness.\"\n",
      "\"American Clinical Neurophysiology Society's Standardized Critical Care EEG Terminology: 2021 Version.\"\n",
      "\"Evaluating the Clinical Impact of Rapid Response Electroencephalography: The DECIDE Multicenter Prospective Observational Clinical Study.\"\n",
      "\"Resident training and interrater agreements using the ACNS critical care EEG terminology.\"\n",
      "\"Randomized trial of lacosamide versus fosphenytoin for nonconvulsive seizures.\"\n",
      "\"cEEG electrode-related pressure ulcers in acutely hospitalized patients.\"\n",
      "\"Development and Feasibility Testing of a Critical Care EEG Monitoring Database for Standardized Clinical Reporting and Multicenter Collaborative Research.\"\n",
      "\"The standardization debate: A conflation trap in critical care electroencephalography.\"\n",
      "\"Interrater agreement for Critical Care EEG Terminology.\"\n",
      "\"Treating seizures in Creutzfeldt-Jakob disease.\"\n",
      "\"Real-time segmentation and tracking of brain metabolic state in ICU EEG recordings of burst suppression.\"\n",
      "14\n"
     ]
    }
   ],
   "source": [
    "# cEEG\n",
    "topicName = 'cEEG'\n",
    "pat = '(cEEG|ICU EEG|Critical Care Electroencephalography|Seizures in Creutzfeldt-Jakob Disease|nonconvulsive seizures|critical care EEG|extracorporeal membrane|Continuous vs Repeat-Spot Electroencephalography|Rapid Response)'\n",
    "writeNewYaml(topicName,pubdata,pat)"
   ]
  },
  {
   "cell_type": "code",
   "execution_count": 38,
   "id": "edaefe98",
   "metadata": {},
   "outputs": [
    {
     "name": "stdout",
     "output_type": "stream",
     "text": [
      "\"Burst Suppression: Causes and Effects on Mortality in Critical Illness.\"\n",
      "\"Electroencephalogram Burst-suppression during Cardiopulmonary Bypass in Elderly Patients Mediates Postoperative Delirium.\"\n",
      "\"Variability in pharmacologically-induced coma for treatment of refractory status epilepticus.\"\n",
      "\"Therapeutic coma for status epilepticus: Differing practices in a prospective multicenter study.\"\n",
      "\"Monitoring burst suppression in critically ill patients: Multi-centric evaluation of a novel method.\"\n",
      "\"The human burst suppression electroencephalogram of deep hypothermia.\"\n",
      "\"Robust control of burst suppression for medical coma.\"\n",
      "\"Stimulus information stored in lasting active and hidden network states is destroyed by network bursts.\"\n",
      "\"Spatial variation in automated burst suppression detection in pharmacologically induced coma.\"\n",
      "\"Clustering analysis to identify distinct spectral components of encephalogram burst suppression in critically ill patients.\"\n",
      "\"Propofol and sevoflurane induce distinct burst suppression patterns in rats.\"\n",
      "\"Burst suppression in sleep in a routine outpatient EEG.\"\n",
      "\"Real-time closed-loop control in a rodent model of medically induced coma using burst suppression.\"\n",
      "\"Real-time segmentation and tracking of brain metabolic state in ICU EEG recordings of burst suppression.\"\n",
      "14\n"
     ]
    }
   ],
   "source": [
    "# burst suppression\n",
    "topicName = 'burstSuppression'\n",
    "pat = '(burst|suppression|Therapeutic coma|Pharmacologically-induced Coma)'\n",
    "writeNewYaml(topicName,pubdata,pat)"
   ]
  },
  {
   "cell_type": "code",
   "execution_count": 43,
   "id": "06f0c894",
   "metadata": {},
   "outputs": [
    {
     "name": "stdout",
     "output_type": "stream",
     "text": [
      "\"Design, implementation, and evaluation of a physiological closed-loop control device for medically-induced coma.\"\n",
      "\"Robust control of burst suppression for medical coma.\"\n",
      "\"Real-time closed-loop control in a rodent model of medically induced coma using burst suppression.\"\n",
      "3\n"
     ]
    }
   ],
   "source": [
    "# closed loop control\n",
    "topicName = 'closedLoopControl'\n",
    "pat = '(closed-loop|robust control|physiological closed-loop|Closed Loop Control|Medically-Induced)'\n",
    "writeNewYaml(topicName,pubdata,pat)"
   ]
  },
  {
   "cell_type": "code",
   "execution_count": 44,
   "id": "f52f3c2c",
   "metadata": {},
   "outputs": [
    {
     "name": "stdout",
     "output_type": "stream",
     "text": [
      "\"Cognitive concerns are a risk factor for mortality in people with HIV and coronavirus disease 2019.\"\n",
      "\"Impact of the COVID-19 Pandemic on Continuous EEG Utilization.\"\n",
      "\"Prolonged Unconsciousness is Common in COVID-19 and Associated with Hypoxemia.\"\n",
      "\"Clinical Electroencephalography Findings and Considerations in Hospitalized Patients With Coronavirus SARS-CoV-2.\"\n",
      "\"Development and Prospective Validation of a Deep Learning Algorithm for Predicting Need for Mechanical Ventilation.\"\n",
      "\"Global Incidence of Neurological Manifestations Among Patients Hospitalized With COVID-19-A Report for the GCS-NeuroCOVID Consortium and the ENERGY Consortium.\"\n",
      "\"Electroencephalographic Abnormalities are Common in COVID-19 and are Associated with Outcomes.\"\n",
      "\"Prolonged Intubation in Patients With Prior Cerebrovascular Disease and COVID-19.\"\n",
      "\"Clinical, Imaging, and Lab Correlates of Severe COVID-19 Leukoencephalopathy.\"\n",
      "\"Susceptibility-weighted imaging reveals cerebral microvascular injury in severe COVID-19.\"\n",
      "\"Classification of the Disposition of Patients Hospitalized with COVID-19: Reading Discharge Summaries Using Natural Language Processing.\"\n",
      "\"CoVA: An Acuity Score for Outpatient Screening that Predicts Coronavirus Disease 2019 Prognosis.\"\n",
      "\"Cerebral Microvascular Injury in Severe COVID-19.\"\n",
      "\"Clinical Electroencephalography Findings and Considerations in Hospitalized Patients with Coronavirus SARS-CoV-2.\"\n",
      "\"COVID-19 Outpatient Screening: a Prediction Score for Adverse Events.\"\n",
      "\"Innate immune signaling in the olfactory epithelium reduces odorant receptor levels: modeling transient smell loss in COVID-19 patients.\"\n",
      "\"Development and Prospective Validation of a Transparent Deep Learning Algorithm for Predicting Need for Mechanical Ventilation.\"\n",
      "17\n"
     ]
    }
   ],
   "source": [
    "# covid-19\n",
    "topicName = 'covid'\n",
    "pat = '(covid|Predicting Need for Mechanical|Coronavirus)'\n",
    "writeNewYaml(topicName,pubdata,pat)"
   ]
  },
  {
   "cell_type": "code",
   "execution_count": 48,
   "id": "0cfdc2bc",
   "metadata": {},
   "outputs": [
    {
     "name": "stdout",
     "output_type": "stream",
     "text": [
      "\"American Clinical Neurophysiology Society's Standardized Critical Care EEG Terminology: 2021 Version.\"\n",
      "\"Resident training and interrater agreements using the ACNS critical care EEG terminology.\"\n",
      "\"The standardization debate: A conflation trap in critical care electroencephalography.\"\n",
      "\"Interrater agreement for Critical Care EEG Terminology.\"\n",
      "4\n"
     ]
    }
   ],
   "source": [
    "# cEEG terminology\n",
    "topicName = 'ICUEEGterminology'\n",
    "pat = '(Critical Care EEG Terminology|standardization debate|terminology|ACNS|nomenclature)'\n",
    "writeNewYaml(topicName,pubdata,pat)"
   ]
  },
  {
   "cell_type": "code",
   "execution_count": 49,
   "id": "78bec47e",
   "metadata": {},
   "outputs": [
    {
     "name": "stdout",
     "output_type": "stream",
     "text": [
      "\"Automated detection of immune effector cell-associated neurotoxicity syndrome via quantitative EEG.\"\n",
      "\"A Primer on EEG Spectrograms.\"\n",
      "\"The Utility of Quantitative EEG in Detecting Delayed Cerebral Ischemia After Aneurysmal Subarachnoid Hemorrhage.\"\n",
      "\"Decoding the Spectrogram Rainbow.\"\n",
      "\"Quantitative EEG reactivity and machine learning for prognostication in hypoxic-ischemic brain injury.\"\n",
      "\"Performance of Spectrogram-Based Seizure Identification of Adult EEGs by Critical Care Nurses and Neurophysiologists.\"\n",
      "\"Sensitivity of quantitative EEG for seizure identification in the intensive care unit.\"\n",
      "\"Spectrogram screening of adult EEGs is sensitive and efficient.\"\n",
      "\"Sensitivity of compressed spectral arrays for detecting seizures in acutely ill adults.\"\n",
      "9\n"
     ]
    }
   ],
   "source": [
    "# qEEG \n",
    "topicName = 'QEEG'\n",
    "pat = '(Compressed Spectral|spectrogram|Quantitative EEG)'\n",
    "writeNewYaml(topicName,pubdata,pat)"
   ]
  },
  {
   "cell_type": "code",
   "execution_count": 50,
   "id": "54036dbf",
   "metadata": {},
   "outputs": [
    {
     "name": "stdout",
     "output_type": "stream",
     "text": [
      "\"Assessment of the Validity of the 2HELPS2B Score for Inpatient Seizure Risk Prediction.\"\n",
      "\"The probability of seizures during continuous EEG monitoring in high-risk neonates.\"\n",
      "\"Comparison of machine learning models for seizure prediction in hospitalized patients.\"\n",
      "\"Bilateral independent periodic discharges are associated with electrographic seizures and poor outcome: A case-control study.\"\n",
      "\"Association of an Electroencephalography-Based Risk Score With Seizure Probability in Hospitalized Patients.\"\n",
      "\"Time-dependent risk of seizures in critically ill patients on continuous electroencephalogram.\"\n",
      "\"The probability of seizures during EEG monitoring in critically ill adults.\"\n",
      "\"Absence of early epileptiform abnormalities predicts lack of seizures on continuous EEG.\"\n",
      "8\n"
     ]
    }
   ],
   "source": [
    "# seizure risk \n",
    "topicName = 'szRisk'\n",
    "pat = '(Seizure Prediction|Predicts Lack of Seizures|2helps2b|Probability of Seizures|Risk of Seizures|Seizure Probability|associated with electrographic seizures)'\n",
    "writeNewYaml(topicName,pubdata,pat)"
   ]
  },
  {
   "cell_type": "code",
   "execution_count": 51,
   "id": "c949db82",
   "metadata": {},
   "outputs": [
    {
     "name": "stdout",
     "output_type": "stream",
     "text": [
      "\"Automated detection of immune effector cell-associated neurotoxicity syndrome via quantitative EEG.\"\n",
      "\"EEG-based grading of immune effector cell-associated neurotoxicity syndrome.\"\n",
      "\"Forecasting immune effector cell-associated neurotoxicity syndrome after chimeric antigen receptor t-cell therapy.\"\n",
      "\"EEG findings in CAR T-cell therapy-related encephalopathy.\"\n",
      "4\n"
     ]
    }
   ],
   "source": [
    "# CAR-T therapy \n",
    "topicName = 'carT'\n",
    "pat = '(CAR T|CAR-T|neurotoxicity|grading of immune|immune effector)'\n",
    "writeNewYaml(topicName,pubdata,pat)"
   ]
  },
  {
   "cell_type": "code",
   "execution_count": 52,
   "id": "5248fd06",
   "metadata": {},
   "outputs": [
    {
     "name": "stdout",
     "output_type": "stream",
     "text": [
      "\"The information theoretic perspective on medical diagnostic inference.\"\n",
      "\"Information theoretic quantification of diagnostic uncertainty.\"\n",
      "\"Asymptotic Geometry of Multiple Hypothesis Testing.\"\n",
      "\"Achievable Rates for Pattern Recognition.\"\n",
      "4\n"
     ]
    }
   ],
   "source": [
    "# information theory\n",
    "topicName = 'infoTheory'\n",
    "pat = \"(information theor|achievable rates|asymptotic geometry|information theoretic)\"\n",
    "writeNewYaml(topicName,pubdata,pat)"
   ]
  },
  {
   "cell_type": "code",
   "execution_count": 30,
   "id": "b6cd0059",
   "metadata": {},
   "outputs": [
    {
     "name": "stdout",
     "output_type": "stream",
     "text": [
      "\"Sleep apnea and respiratory anomaly detection from a wearable band and oxygen saturation.\"\n",
      "\"High prevalence of sleep-disordered breathing in the intensive care unit - a cross-sectional study.\"\n",
      "\"Automated Scoring of Respiratory Events in Sleep With a Single Effort Belt and Deep Neural Networks.\"\n",
      "\"Algorithm for automatic detection of self-similarity and prediction of residual central respiratory events during continuous positive airway pressure.\"\n",
      "\"A cost-effectiveness analysis of nasal surgery to increase continuous positive airway pressure adherence in sleep apnea patients with nasal obstruction.\"\n",
      "\"Decision Modeling in Sleep Apnea: The Critical Roles of Pretest Probability, Cost of Untreated Obstructive Sleep Apnea, and Time Horizon.\"\n",
      "\"Clinical Prediction Models for Sleep Apnea: The Importance of Medical History over Symptoms.\"\n",
      "\"Applications of a Capacitor-Based Respiratory Position Sensing Device: Implications for Radiation Therapy.\"\n",
      "\"The challenge of undiagnosed sleep apnea in low-risk populations: a decision analysis.\"\n",
      "\"Automated sleep apnea quantification based on respiratory movement.\"\n",
      "\"The impact of body posture and sleep stages on sleep apnea severity in adults.\"\n",
      "\"Classification algorithms for predicting sleepiness and sleep apnea severity.\"\n",
      "12\n"
     ]
    }
   ],
   "source": [
    "# sleep apnea\n",
    "topicName = 'breathing'\n",
    "pat = \"(sleep apnea|apnea|breathing|cpap|nasal obstruction|Effort Belt|Respiratory)\"\n",
    "writeNewYaml(topicName,pubdata,pat)"
   ]
  },
  {
   "cell_type": "code",
   "execution_count": 53,
   "id": "e19e354c",
   "metadata": {},
   "outputs": [
    {
     "name": "stdout",
     "output_type": "stream",
     "text": [
      "\"Alternative remedies for insomnia: a proposed method for personalized therapeutic trials.\"\n",
      "\"Insomnia and morning motor vehicle accidents: a decision analysis of the risk of hypnotics versus the risk of untreated insomnia.\"\n",
      "2\n"
     ]
    }
   ],
   "source": [
    "# insomnia\n",
    "topicName = 'insomnia'\n",
    "pat = \"(insomnia)\"\n",
    "writeNewYaml(topicName,pubdata,pat)"
   ]
  },
  {
   "cell_type": "code",
   "execution_count": 54,
   "id": "a1fe712e",
   "metadata": {},
   "outputs": [
    {
     "name": "stdout",
     "output_type": "stream",
     "text": [
      "\"Exploiting labels from multiple experts in automated sleep scoring.\"\n",
      "\"Sleep staging in the ICU with heart rate variability and breathing signals. An exploratory cross-sectional study using deep neural networks.\"\n",
      "\"Expert-level automated sleep staging of long-term scalp electroencephalography recordings using deep learning.\"\n",
      "\"Sleep staging from electrocardiography and respiration with deep learning.\"\n",
      "\"Artificial intelligence in sleep medicine: background and implications for clinicians.\"\n",
      "\"Artificial intelligence in sleep medicine: an American Academy of Sleep Medicine position statement.\"\n",
      "\"Expert-level sleep scoring with deep neural networks.\"\n",
      "\"Large-Scale Automated Sleep Staging.\"\n",
      "\"Data-driven modeling of sleep states from EEG.\"\n",
      "\"Power law versus exponential state transition dynamics: application to sleep-wake architecture.\"\n",
      "10\n"
     ]
    }
   ],
   "source": [
    "# sleep staging\n",
    "topicName = 'sleepStaging'\n",
    "pat = \"(sleep staging|Sleep-Wake Architecture|Sleep Architecture|Sleep Scoring|Artificial Intelligence in Sleep Medicine|Modeling of Sleep States)\"\n",
    "writeNewYaml(topicName,pubdata,pat)"
   ]
  },
  {
   "cell_type": "code",
   "execution_count": 55,
   "id": "4b30de3d",
   "metadata": {},
   "outputs": [
    {
     "name": "stdout",
     "output_type": "stream",
     "text": [
      "\"Brain health scores to predict neurological outcomes from electronic health records.\"\n",
      "\"Estimating the number of cases of dementia that might be prevented by preventing delirium.\"\n",
      "\"The sleep and wake electroencephalogram over the lifespan.\"\n",
      "\"Dementia detection from brain activity during sleep.\"\n",
      "\"How Machine Learning is Powering Neuroimaging to Improve Brain Health.\"\n",
      "\"Optimal spindle detection parameters for predicting cognitive performance.\"\n",
      "\"HIV increases sleep-based brain age despite antiretroviral therapy.\"\n",
      "\"Night-to-night variability of sleep electroencephalography-based brain age measurements.\"\n",
      "\"Association of Sleep Electroencephalography-Based Brain Age Index With Dementia.\"\n",
      "\"Excess brain age in the sleep electroencephalogram predicts reduced life expectancy.\"\n",
      "\"Brain age from the electroencephalogram of sleep.\"\n",
      "11\n"
     ]
    }
   ],
   "source": [
    "# brain age\n",
    "topicName = 'brainAge'\n",
    "pat = \"(Optimal Spindle Detection|dementia|brain age|lifespan|Brain Health|Dementia Detection|Brain Activity During Sleep|Age estimation|life expectancy)\"\n",
    "writeNewYaml(topicName,pubdata,pat)"
   ]
  },
  {
   "cell_type": "code",
   "execution_count": 56,
   "id": "76a7355a",
   "metadata": {},
   "outputs": [
    {
     "name": "stdout",
     "output_type": "stream",
     "text": [
      "\"An examination of sleep spindle metrics in the Sleep Heart Health Study: superiority of automated spindle detection over total sigma power in assessing age-related spindle decline.\"\n",
      "\"Optimal spindle detection parameters for predicting cognitive performance.\"\n",
      "\"Computational Evidence for a Competitive Thalamocortical Model of Spikes and Spindle Activity in Rolandic Epilepsy.\"\n",
      "\"Focal Sleep Spindle Deficits Reveal Focal Thalamocortical Dysfunction and Predict Cognitive Deficits in Sleep Activated Developmental Epilepsy.\"\n",
      "4\n"
     ]
    }
   ],
   "source": [
    "# sleep spindles\n",
    "topicName = 'spindles'\n",
    "pat = \"(spindle)\"\n",
    "writeNewYaml(topicName,pubdata,pat)"
   ]
  },
  {
   "cell_type": "code",
   "execution_count": 57,
   "id": "c9404413",
   "metadata": {},
   "outputs": [
    {
     "name": "stdout",
     "output_type": "stream",
     "text": [
      "\"Interrater Reliability of Expert Electroencephalographers Identifying Seizures and Rhythmic and Periodic Patterns in EEGs.\"\n",
      "\"Competency-based EEG education: a list of \"must-know\" EEG findings for adult and child neurology residents.\"\n",
      "\"EEG reading with or without clinical information - a real-world practice study.\"\n",
      "\"One EEG, one read - A manifesto towards reducing interrater variability among experts.\"\n",
      "\"Interrater Reliability of Experts in Identifying Interictal Epileptiform Discharges in Electroencephalograms.\"\n",
      "\"Resident training and interrater agreements using the ACNS critical care EEG terminology.\"\n",
      "\"Interictal epileptiform discharge characteristics underlying expert interrater agreement.\"\n",
      "\"Interrater Agreement for Consensus Definitions of Delayed Ischemic Events After Aneurysmal Subarachnoid Hemorrhage.\"\n",
      "\"Interrater agreement for Critical Care EEG Terminology.\"\n",
      "9\n"
     ]
    }
   ],
   "source": [
    "# noise and bias: inter-rater reliability\n",
    "topicName = 'noiseAndBias'\n",
    "pat = \"(with or without clinical information|reliability|EEG education|interrater variability|agreement)\"\n",
    "writeNewYaml(topicName,pubdata,pat)"
   ]
  },
  {
   "cell_type": "code",
   "execution_count": 58,
   "id": "0bcf7dae",
   "metadata": {},
   "outputs": [
    {
     "name": "stdout",
     "output_type": "stream",
     "text": [
      "\"Forecasting immune effector cell-associated neurotoxicity syndrome after chimeric antigen receptor t-cell therapy.\"\n",
      "\"Development and Validation of Forecasting Next Reported Seizure Using e-Diaries.\"\n",
      "2\n"
     ]
    }
   ],
   "source": [
    "# seizure forecasting\n",
    "topicName = 'szForecasting'\n",
    "pat = \"(forecasting)\"\n",
    "writeNewYaml(topicName,pubdata,pat)"
   ]
  },
  {
   "cell_type": "code",
   "execution_count": 59,
   "id": "c7244ebc",
   "metadata": {},
   "outputs": [
    {
     "name": "stdout",
     "output_type": "stream",
     "text": [
      "\"Spike height improves prediction of future seizure risk.\"\n",
      "\"Epilepsy diagnosis using a clinical decision tool and artificially intelligent electroencephalography.\"\n",
      "\"High epileptiform discharge burden predicts delayed cerebral ischemia after subarachnoid hemorrhage.\"\n",
      "\"Measuring expertise in identifying interictal epileptiform discharges.\"\n",
      "\"Accurate identification of EEG recordings with interictal epileptiform discharges using a hybrid approach: Artificial intelligence supervised by human experts.\"\n",
      "\"Time-Frequency Decomposition of Scalp Electroencephalograms Improves Deep Learning-Based Epilepsy Diagnosis.\"\n",
      "\"Computational Evidence for a Competitive Thalamocortical Model of Spikes and Spindle Activity in Rolandic Epilepsy.\"\n",
      "\"Automated Adult Epilepsy Diagnostic Tool Based on Interictal Scalp Electroencephalogram Characteristics: A Six-Center Study.\"\n",
      "\"Automated Detection of Interictal Epileptiform Discharges from Scalp Electroencephalograms by Convolutional Neural Networks.\"\n",
      "\"Persistent abnormalities in Rolandic thalamocortical white matter circuits in childhood epilepsy with centrotemporal spikes.\"\n",
      "\"Deep Learning for Interictal Epileptiform Spike Detection from scalp EEG frequency sub bands.\"\n",
      "\"Detection of mesial temporal lobe epileptiform discharges on intracranial electrodes using deep learning.\"\n",
      "\"Interrater Reliability of Experts in Identifying Interictal Epileptiform Discharges in Electroencephalograms.\"\n",
      "\"Development of Expert-Level Automated Detection of Epileptiform Discharges During Electroencephalogram Interpretation.\"\n",
      "\"A fast machine learning approach to facilitate the detection of interictal epileptiform discharges in the scalp electroencephalogram.\"\n",
      "\"CLASSIFIER CASCADE TO AID IN DETECTION OF EPILEPTIFORM TRANSIENTS IN INTERICTAL EEG.\"\n",
      "\"Interictal Epileptiform Discharge Detection in EEG in Different Practice Settings.\"\n",
      "\"EEG CLassification Via Convolutional Neural Network-Based Interictal Epileptiform Event Detection.\"\n",
      "\"Interictal epileptiform discharge characteristics underlying expert interrater agreement.\"\n",
      "\"Automated epileptiform spike detection via affinity propagation-based template matching.\"\n",
      "\"What it should mean for an algorithm to pass a statistical Turing test for detection of epileptiform discharges.\"\n",
      "\"Rapid annotation of interictal epileptiform discharges via template matching under Dynamic Time Warping.\"\n",
      "\"EPILEPTIFORM SPIKE DETECTION VIA CONVOLUTIONAL NEURAL NETWORKS.\"\n",
      "\"CLUSTERING OF INTERICTAL SPIKES BY DYNAMIC TIME WARPING AND AFFINITY PROPAGATION.\"\n",
      "\"FAST AND EFFICIENT REJECTION OF BACKGROUND WAVEFORMS IN INTERICTAL EEG.\"\n",
      "\"SpikeGUI: software for rapid interictal discharge annotation via template matching and online machine learning.\"\n",
      "26\n"
     ]
    }
   ],
   "source": [
    "# spike detection\n",
    "topicName = 'spikeDetection'\n",
    "pat = \"(Epilepsy Diagnostic Tool|Epilepsy Diagnosis|Interictal Discharge|Interictal Epileptiform|spike|Rejection of Background|epileptiform discharge|spike detection|Detection of Epileptiform Transients)\"\n",
    "writeNewYaml(topicName,pubdata,pat)"
   ]
  },
  {
   "cell_type": "code",
   "execution_count": 60,
   "id": "45f531bd",
   "metadata": {},
   "outputs": [
    {
     "name": "stdout",
     "output_type": "stream",
     "text": [
      "\"Quantitative epileptiform burden and electroencephalography background features predict post-traumatic epilepsy.\"\n",
      "\"Epileptiform activity in traumatic brain injury predicts post-traumatic epilepsy.\"\n",
      "2\n"
     ]
    }
   ],
   "source": [
    "# post-traumatic epilepsy\n",
    "topicName = 'PTE'\n",
    "pat = \"(traumatic epilepsy)\"\n",
    "writeNewYaml(topicName,pubdata,pat)"
   ]
  },
  {
   "cell_type": "code",
   "execution_count": 61,
   "id": "1d793161",
   "metadata": {},
   "outputs": [
    {
     "name": "stdout",
     "output_type": "stream",
     "text": [
      "\"Commentary on \"Predicting seizure freedom after epilepsy surgery, a challenge in clinical practice\".\"\n",
      "\"Reply: Computer models to inform epilepsy surgery strategies: prediction of postoperative outcome.\"\n",
      "2\n"
     ]
    }
   ],
   "source": [
    "# epilepsy surgery\n",
    "topicName = 'epilepsySurgery'\n",
    "pat = \"(epilepsy surgery|neurosurgical outcomes)\"\n",
    "writeNewYaml(topicName,pubdata,pat)"
   ]
  },
  {
   "cell_type": "code",
   "execution_count": 62,
   "id": "d518cfd6",
   "metadata": {},
   "outputs": [
    {
     "name": "stdout",
     "output_type": "stream",
     "text": [
      "\"Epilepsy diagnosis using a clinical decision tool and artificially intelligent electroencephalography.\"\n",
      "\"Anticonvulsant Primary and Secondary Prophylaxis for Acute Ischemic Stroke Patients: A Decision Analysis.\"\n",
      "\"A Theoretical Paradigm for Evaluating Risk-Benefit of Status Epilepticus Treatment.\"\n",
      "\"Antiepileptic drug treatment after an unprovoked first seizure: A decision analysis.\"\n",
      "\"Selection of first-line therapy in multiple sclerosis using risk-benefit decision analysis.\"\n",
      "\"Decision analysis of intracranial monitoring in non-lesional epilepsy.\"\n",
      "\"Decision Modeling in Sleep Apnea: The Critical Roles of Pretest Probability, Cost of Untreated Obstructive Sleep Apnea, and Time Horizon.\"\n",
      "\"Weighing the value of memory loss in the surgical evaluation of left temporal lobe epilepsy: a decision analysis.\"\n",
      "\"Aspirin for acute stroke of unknown etiology in resource-limited settings: a decision analysis.\"\n",
      "\"The challenge of undiagnosed sleep apnea in low-risk populations: a decision analysis.\"\n",
      "\"Insomnia and morning motor vehicle accidents: a decision analysis of the risk of hypnotics versus the risk of untreated insomnia.\"\n",
      "\"Should risky treatments be reserved for secondary prevention? Theoretical considerations regarding risk-benefit tradeoffs.\"\n",
      "\"Statin use following intracerebral hemorrhage: a decision analysis.\"\n",
      "13\n"
     ]
    }
   ],
   "source": [
    "# decision\n",
    "topicName = 'decisionAnalysis'\n",
    "pat = \"(decision|risk-benefit|decision analysis)\"\n",
    "writeNewYaml(topicName,pubdata,pat)"
   ]
  },
  {
   "cell_type": "code",
   "execution_count": 63,
   "id": "010cbadc",
   "metadata": {},
   "outputs": [
    {
     "name": "stdout",
     "output_type": "stream",
     "text": [
      "\"Prediction of operative mortality for patients undergoing cardiac surgical procedures without established risk scores.\"\n",
      "\"A machine learning approach to predict progression on active surveillance for prostate cancer.\"\n",
      "\"Early Prediction of Sepsis From Clinical Data: The PhysioNet/Computing in Cardiology Challenge 2019.\"\n",
      "\"Real-Time, Automated Detection of Ventilator-Associated Events: Avoiding Missed Detections, Misclassifications, and False Detections Due to Human Error.\"\n",
      "\"Automated surveillance for central line-associated bloodstream infection in intensive care units.\"\n",
      "5\n"
     ]
    }
   ],
   "source": [
    "# medical informatics\n",
    "# decision\n",
    "topicName = 'non_neuro_informatics'\n",
    "pat = \"(Automated Surveillance|Ventilator|sepsis|Prediction of operative mortality|surveillance)\"\n",
    "writeNewYaml(topicName,pubdata,pat)"
   ]
  },
  {
   "cell_type": "code",
   "execution_count": 64,
   "id": "84ef37a5",
   "metadata": {},
   "outputs": [
    {
     "name": "stdout",
     "output_type": "stream",
     "text": [
      "\"An examination of sleep spindle metrics in the Sleep Heart Health Study: superiority of automated spindle detection over total sigma power in assessing age-related spindle decline.\"\n",
      "\"Automated detection of immune effector cell-associated neurotoxicity syndrome via quantitative EEG.\"\n",
      "\"Cognitive concerns are a risk factor for mortality in people with HIV and coronavirus disease 2019.\"\n",
      "\"Identification of patients with epilepsy using automated electronic health records phenotyping.\"\n",
      "\"Spike height improves prediction of future seizure risk.\"\n",
      "\"Exploiting labels from multiple experts in automated sleep scoring.\"\n",
      "\"Prediction of operative mortality for patients undergoing cardiac surgical procedures without established risk scores.\"\n",
      "\"Improving automated diagnosis of epilepsy from EEGs beyond IEDs.\"\n",
      "\"Automated EEG-based prediction of delayed cerebral ischemia after subarachnoid hemorrhage.\"\n",
      "\"Hospital complications among older adults: Better processes could reduce the risk of delirium.\"\n",
      "\"SCRIB: Set-Classifier with Class-Specific Risk Bounds for Blackbox Models.\"\n",
      "\"Automated Scoring of Respiratory Events in Sleep With a Single Effort Belt and Deep Neural Networks.\"\n",
      "\"A machine learning approach to predict progression on active surveillance for prostate cancer.\"\n",
      "\"Cancer Risk in Patients With and Relatives of Serrated Polyposis Syndrome and Sporadic Sessile Serrated Lesions.\"\n",
      "\"Automated Annotation of Epileptiform Burden and Its Association with Outcomes.\"\n",
      "\"Automated Adult Epilepsy Diagnostic Tool Based on Interictal Scalp Electroencephalogram Characteristics: A Six-Center Study.\"\n",
      "\"Algorithm for automatic detection of self-similarity and prediction of residual central respiratory events during continuous positive airway pressure.\"\n",
      "\"CoVA: An Acuity Score for Outpatient Screening that Predicts Coronavirus Disease 2019 Prognosis.\"\n",
      "\"Expert-level automated sleep staging of long-term scalp electroencephalography recordings using deep learning.\"\n",
      "\"Automated Detection of Interictal Epileptiform Discharges from Scalp Electroencephalograms by Convolutional Neural Networks.\"\n",
      "\"A Theoretical Paradigm for Evaluating Risk-Benefit of Status Epilepticus Treatment.\"\n",
      "\"Association of Red Blood Cell Distribution Width With Mortality Risk in Hospitalized Adults With SARS-CoV-2 Infection.\"\n",
      "\"MRI-EEG correlation for outcome prediction in postanoxic myoclonus: A multicenter study.\"\n",
      "\"COVID-19 Outpatient Screening: a Prediction Score for Adverse Events.\"\n",
      "\"Assessment of the Validity of the 2HELPS2B Score for Inpatient Seizure Risk Prediction.\"\n",
      "\"Early Prediction of Sepsis From Clinical Data: The PhysioNet/Computing in Cardiology Challenge 2019.\"\n",
      "\"Development of Expert-Level Automated Detection of Epileptiform Discharges During Electroencephalogram Interpretation.\"\n",
      "\"The probability of seizures during continuous EEG monitoring in high-risk neonates.\"\n",
      "\"Automated tracking of level of consciousness and delirium in critical illness using deep learning.\"\n",
      "\"Drug-Specific Models Improve the Performance of an EEG-based Automated Brain-State Prediction System.\"\n",
      "\"Comparison of machine learning models for seizure prediction in hospitalized patients.\"\n",
      "\"Real-Time, Automated Detection of Ventilator-Associated Events: Avoiding Missed Detections, Misclassifications, and False Detections Due to Human Error.\"\n",
      "\"Association of an Electroencephalography-Based Risk Score With Seizure Probability in Hospitalized Patients.\"\n",
      "\"Large-Scale Automated Sleep Staging.\"\n",
      "\"Time-dependent risk of seizures in critically ill patients on continuous electroencephalogram.\"\n",
      "\"Automated epileptiform spike detection via affinity propagation-based template matching.\"\n",
      "\"Reply: Computer models to inform epilepsy surgery strategies: prediction of postoperative outcome.\"\n",
      "\"Selection of first-line therapy in multiple sclerosis using risk-benefit decision analysis.\"\n",
      "\"Continuous EEG monitoring enhances multimodal outcome prediction in hypoxic-ischemic brain injury.\"\n",
      "\"Clinical Prediction Models for Sleep Apnea: The Importance of Medical History over Symptoms.\"\n",
      "\"Characteristics and role in outcome prediction of continuous EEG after status epilepticus: A prospective observational cohort.\"\n",
      "\"Automated information extraction from free-text EEG reports.\"\n",
      "\"Spatial variation in automated burst suppression detection in pharmacologically induced coma.\"\n",
      "\"High risk for seizures following subarachnoid hemorrhage regardless of referral bias.\"\n",
      "\"The challenge of undiagnosed sleep apnea in low-risk populations: a decision analysis.\"\n",
      "\"Insomnia and morning motor vehicle accidents: a decision analysis of the risk of hypnotics versus the risk of untreated insomnia.\"\n",
      "\"Automated sleep apnea quantification based on respiratory movement.\"\n",
      "\"Calculating the risk benefit equation for aggressive treatment of non-convulsive status epilepticus.\"\n",
      "\"Should risky treatments be reserved for secondary prevention? Theoretical considerations regarding risk-benefit tradeoffs.\"\n",
      "\"Should a sentinel node biopsy be performed in patients with high-risk breast cancer?.\"\n",
      "\"Analysis of SPARCL trial data for reduction of future stroke risk in older stroke patients with recent stroke or TIA.\"\n",
      "\"Automated surveillance for central line-associated bloodstream infection in intensive care units.\"\n",
      "52\n"
     ]
    }
   ],
   "source": [
    "# medical prediction and automation\n",
    "topicName = 'riskPrediction'\n",
    "pat = \"(Automated|prognosis|sepsis|Prediction|surveillance|risk)\"\n",
    "writeNewYaml(topicName,pubdata,pat)"
   ]
  },
  {
   "cell_type": "code",
   "execution_count": null,
   "id": "fc62848f",
   "metadata": {},
   "outputs": [],
   "source": []
  },
  {
   "cell_type": "code",
   "execution_count": 65,
   "id": "fbc1a0e8",
   "metadata": {},
   "outputs": [
    {
     "name": "stdout",
     "output_type": "stream",
     "text": [
      "\"Sleep staging in the ICU with heart rate variability and breathing signals. An exploratory cross-sectional study using deep neural networks.\"\n",
      "\"Automated Scoring of Respiratory Events in Sleep With a Single Effort Belt and Deep Neural Networks.\"\n",
      "\"Predicting neurological outcome in comatose patients after cardiac arrest with multiscale deep neural networks.\"\n",
      "\"Cortical responses to noninvasive perturbations enable individual brain fingerprinting.\"\n",
      "\"Automated Detection of Interictal Epileptiform Discharges from Scalp Electroencephalograms by Convolutional Neural Networks.\"\n",
      "\"EEG Functional Connectivity is a Weak Predictor of Causal Brain Interactions.\"\n",
      "\"Detecting abnormal electroencephalograms using deep convolutional networks.\"\n",
      "\"Expert-level sleep scoring with deep neural networks.\"\n",
      "\"EEG CLassification Via Convolutional Neural Network-Based Interictal Epileptiform Event Detection.\"\n",
      "\"Brain Monitoring of Sedation in the Intensive Care Unit Using a Recurrent Neural Network.\"\n",
      "\"Default Mode Network Perfusion in Aneurysmal Subarachnoid Hemorrhage.\"\n",
      "\"EPILEPTIFORM SPIKE DETECTION VIA CONVOLUTIONAL NEURAL NETWORKS.\"\n",
      "\"Physiological consequences of abnormal connectivity in a developmental epilepsy.\"\n",
      "\"Stimulus information stored in lasting active and hidden network states is destroyed by network bursts.\"\n",
      "\"Exploration and modulation of brain network interactions with noninvasive brain stimulation in combination with neuroimaging.\"\n",
      "\"Emergence of stable functional networks in long-term human electroencephalography.\"\n",
      "\"Characterizing brain cortical plasticity and network dynamics across the age-span in health and disease with TMS-EEG and TMS-fMRI.\"\n",
      "17\n"
     ]
    }
   ],
   "source": [
    "# connectivity\n",
    "topicName = 'connectivity'\n",
    "pat = \"(connectivity|network|fingerprinting)\"\n",
    "writeNewYaml(topicName,pubdata,pat)"
   ]
  },
  {
   "cell_type": "code",
   "execution_count": 66,
   "id": "aea6b031",
   "metadata": {},
   "outputs": [
    {
     "name": "stdout",
     "output_type": "stream",
     "text": [
      "\"Flexible realistic simulation of seizure occurrence recapitulating statistical properties of seizure diaries.\"\n",
      "\"EEG Functional Connectivity is a Weak Predictor of Causal Brain Interactions.\"\n",
      "\"The probability of seizures during continuous EEG monitoring in high-risk neonates.\"\n",
      "\"Rule of 100: a litmus test for informationless diagnostic tests.\"\n",
      "\"Association of an Electroencephalography-Based Risk Score With Seizure Probability in Hospitalized Patients.\"\n",
      "\"What it should mean for an algorithm to pass a statistical Turing test for detection of epileptiform discharges.\"\n",
      "\"Causal inference as an emerging statistical approach in neurology: an example for epilepsy in the elderly.\"\n",
      "\"Decision Modeling in Sleep Apnea: The Critical Roles of Pretest Probability, Cost of Untreated Obstructive Sleep Apnea, and Time Horizon.\"\n",
      "\"The probability of seizures during EEG monitoring in critically ill adults.\"\n",
      "\"Information theoretic quantification of diagnostic uncertainty.\"\n",
      "\"Propagation of uncertainty in Bayesian diagnostic test interpretation.\"\n",
      "\"Significance testing as perverse probabilistic reasoning.\"\n",
      "12\n"
     ]
    }
   ],
   "source": [
    "# probability, stats, causal inference\n",
    "topicName = 'probStatsCausal'\n",
    "pat = \"(causal|probability|statistic|Rule of 100|Significance Testing|Uncertainty|bayes)\"\n",
    "writeNewYaml(topicName,pubdata,pat)"
   ]
  },
  {
   "cell_type": "code",
   "execution_count": 67,
   "id": "f6f11463",
   "metadata": {},
   "outputs": [
    {
     "name": "stdout",
     "output_type": "stream",
     "text": [
      "\"Estimating Total Cerebral Microinfarct Burden From Diffusion-Weighted Imaging.\"\n",
      "\"Cerebrospinal fluid shunt-induced chorea: case report and review of the literature on shunt-related movement disorders.\"\n",
      "\"Treating seizures in Creutzfeldt-Jakob disease.\"\n",
      "\"Estimating cerebral microinfarct burden from autopsy samples.\"\n",
      "\"Reversible vasoconstriction syndrome with bilateral basal ganglia hemorrhages.\"\n",
      "\"Cerebral infarction due to smoker's polycythemia.\"\n",
      "\"Statin use following intracerebral hemorrhage: a decision analysis.\"\n",
      "\"Premortem diagnosis of sporadic Creutzfeldt-Jakob disease aided by positron-emission tomography imaging.\"\n",
      "8\n"
     ]
    }
   ],
   "source": [
    "# general neurology\n",
    "topicName = 'genNeuro'\n",
    "pat = \"(Creutzfeldt|statin|Polycythemia|Vasoconstriction|Microinfarct|chorea)\"\n",
    "writeNewYaml(topicName,pubdata,pat)"
   ]
  },
  {
   "cell_type": "code",
   "execution_count": 68,
   "id": "33c256a5",
   "metadata": {},
   "outputs": [
    {
     "name": "stdout",
     "output_type": "stream",
     "text": [
      "\"A model of metabolic supply-demand mismatch leading to secondary brain injury.\"\n",
      "\"Stimulus information stored in lasting active and hidden network states is destroyed by network bursts.\"\n",
      "\"Layer 4C in monkey V1 may linearize the output of the LGN.\"\n",
      "\"The neural multiple access channel.\"\n",
      "\"A general framework for neurobiological modeling: an application to the vestibular system.\"\n",
      "\"Linearly decodable functions from neural population codes.\"\n",
      "6\n"
     ]
    }
   ],
   "source": [
    "# computational neuroscience\n",
    "topicName = 'compNeuro'\n",
    "pat = \"(vestibular|calcium homeostasis|population code|multiple access channel|Layer 4C|hidden network states|mechanistic model|Model of Metabolic)\"\n",
    "writeNewYaml(topicName,pubdata,pat)"
   ]
  },
  {
   "cell_type": "code",
   "execution_count": 69,
   "id": "1bf4683a",
   "metadata": {},
   "outputs": [
    {
     "name": "stdout",
     "output_type": "stream",
     "text": [
      "yamlszRisk.yml\n",
      "yamlsedationAndAnesthesia.yml\n",
      "yamltpw.yml\n",
      "yamlspikeDetection.yml\n",
      "yamlSAH.yml\n",
      "yamlML_AI.yml\n",
      "yamlspindles.yml\n",
      "yamlclosedLoopControl.yml\n",
      "yamldementia.yml\n",
      "yamlconnectivity.yml\n",
      "yamlprobStatsCausal.yml\n",
      "yamltimeSeries.yml\n",
      "yamldecisionAnalysis.yml\n",
      "yamlcarT.yml\n",
      "yamlszForecasting.yml\n",
      "yamlstatusEpilepticus.yml\n",
      "yamlPTE.yml\n",
      "yaml(subarachnoid|delayed cerebral ischemia).yml\n",
      "yamlnoiseAndBias.yml\n",
      "yamlcompNeuro.yml\n",
      "yamlszIIIC.yml\n",
      "yamlbrainAge.yml\n",
      "yamlsleepStaging.yml\n",
      "yamlcEEG.yml\n",
      "yamlHRV_ECG.yml\n",
      "yamlnon_neuro_informatics.yml\n",
      "yamldelirium.yml\n",
      "yamlszIIIC_harm.yml\n",
      "yamlepilepsySurgery.yml\n",
      "yamlgenNeuro.yml\n",
      "yamlICUEEGterminology.yml\n",
      "yamlseizures.yml\n",
      "yamleeg.yml\n",
      "yamlriskPrediction.yml\n",
      "yamlcardiacArrest.yml\n",
      "yamlbreathing.yml\n",
      "yamlehrPhenotyping.yml\n",
      "yamlcovid.yml\n",
      "yamlburstSuppression.yml\n",
      "yamlinsomnia.yml\n",
      "yamlinformatics.yml\n",
      "yamlinfoTheory.yml\n",
      "yamlQEEG.yml\n"
     ]
    }
   ],
   "source": [
    "# get list of all the yaml files\n",
    "import glob\n",
    "fileList = glob.glob('yaml*.yml')\n",
    "for f in fileList: \n",
    "    print(f)"
   ]
  },
  {
   "cell_type": "code",
   "execution_count": null,
   "id": "742d7a10",
   "metadata": {},
   "outputs": [],
   "source": []
  },
  {
   "cell_type": "code",
   "execution_count": null,
   "id": "12a60b6f",
   "metadata": {},
   "outputs": [],
   "source": []
  },
  {
   "cell_type": "code",
   "execution_count": null,
   "id": "db493f9f",
   "metadata": {},
   "outputs": [],
   "source": []
  }
 ],
 "metadata": {
  "kernelspec": {
   "display_name": "Python 3 (ipykernel)",
   "language": "python",
   "name": "python3"
  },
  "language_info": {
   "codemirror_mode": {
    "name": "ipython",
    "version": 3
   },
   "file_extension": ".py",
   "mimetype": "text/x-python",
   "name": "python",
   "nbconvert_exporter": "python",
   "pygments_lexer": "ipython3",
   "version": "3.7.0"
  }
 },
 "nbformat": 4,
 "nbformat_minor": 5
}
