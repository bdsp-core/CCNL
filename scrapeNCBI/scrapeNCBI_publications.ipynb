{
 "cells": [
  {
   "cell_type": "code",
   "execution_count": 21,
   "id": "65fd34c1",
   "metadata": {},
   "outputs": [
    {
     "name": "stdout",
     "output_type": "stream",
     "text": [
      "https://www.ncbi.nlm.nih.gov/myncbi/m.%20brandon.westover.1/bibliography/public/?page=1\n",
      "https://www.ncbi.nlm.nih.gov/myncbi/m.%20brandon.westover.1/bibliography/public/?page=2\n",
      "https://www.ncbi.nlm.nih.gov/myncbi/m.%20brandon.westover.1/bibliography/public/?page=3\n",
      "https://www.ncbi.nlm.nih.gov/myncbi/m.%20brandon.westover.1/bibliography/public/?page=4\n",
      "https://www.ncbi.nlm.nih.gov/myncbi/m.%20brandon.westover.1/bibliography/public/?page=5\n"
     ]
    }
   ],
   "source": [
    "# run this to download and parse the publications \n",
    "import requests\n",
    "from bs4 import BeautifulSoup \n",
    "\n",
    "# there are 6 pages\n",
    "URL = \"https://www.ncbi.nlm.nih.gov/myncbi/m.%20brandon.westover.1/bibliography/public/?page=\" + str(1)\n",
    "# https://www.ncbi.nlm.nih.gov/myncbi/m.%20brandon.westover.1/bibliography/public/?page=1\n",
    "pubdata = []\n",
    "\n",
    "for i in range(1,6):\n",
    "    URL = \"https://www.ncbi.nlm.nih.gov/myncbi/m.%20brandon.westover.1/bibliography/public/?page=\" + str(i)\n",
    "    print(URL)\n",
    "    page = requests.get(URL)\n",
    "    soup = BeautifulSoup(page.text)\n",
    "    mydivs = soup.find_all(\"div\", {\"class\": \"ncbi-docsum\"})\n",
    "\n",
    "    for div in mydivs:\n",
    "        try:\n",
    "            thisdata = {}\n",
    "            thisdata[\"title\"] = \"\\\"\" + div.find(\"a\").text.strip() + \"\\\"\"\n",
    "            thisdata[\"image\"] = ''\n",
    "            thisdata[\"description\"] = ''\n",
    "            thisdata[\"authors\"] = div.find(\"span\", {\"class\": \"authors\"}).text.strip()\n",
    "            link = \"https://pubmed.ncbi.nlm.nih.gov/\" + div.find(\"a\").get(\"href\").replace(\"pubmed\", \"\").replace(\"/\",\"\")\n",
    "\n",
    "            junk_stuff = [\"source\", \"pubdate\", \"volume\", \"issue\", \"pages\", \"doi\", \"pubstatus\", \"pmid\", \"pmcid\"]\n",
    "            bigjunk = \"\"\n",
    "            for junk in junk_stuff:\n",
    "                try:\n",
    "                    bigjunk += div.find(\"span\", {\"class\": junk}).text.strip().replace(\"PubMed Central \",\"\").replace(\"PubMed \", \"\").replace(\"\\n\",\"\").replace(\"    \",\"\")+ \" \"\n",
    "                except:\n",
    "                    pass\n",
    "            display = bigjunk\n",
    "            \n",
    "            thisdata[\"link\"] = {\"url\": link, \"display\": display}\n",
    "            thisdata[\"highlight\"] = 0\n",
    "\n",
    "            pubdata.append(thisdata)\n",
    "        except:\n",
    "            pass\n",
    "\n",
    "# print(pubdata)\n",
    "\n"
   ]
  },
  {
   "cell_type": "code",
   "execution_count": 22,
   "id": "ffecd247",
   "metadata": {},
   "outputs": [],
   "source": [
    "# write yml file\n",
    "import yaml"
   ]
  },
  {
   "cell_type": "code",
   "execution_count": 23,
   "id": "47c23bba",
   "metadata": {},
   "outputs": [],
   "source": [
    "# - title: Development of expert-level automated detection of epileptiform discharges during electroencephalogram interpretation\n",
    "#   image: dummy.png\n",
    "#   description: \"A deep neural network was trained using 9571 scalp electroencephalogram recordings. The algorithm appeared to perform at or above the accuracy, sensitivity, and specificity of fellowship-trained clinical experts.\"\n",
    "#   authors:\n",
    "#     Jing J, Sun H, Kim JA, Herlopian A, Karakis I, Ng M, Halford JJ, Maus D, Chan F, Dolatshahi M, Muniz C, Chu C, Sacca V, Pathmanathan J, Ge W, Dauwels J, Lam A, Cole AJ, Cash SS, Westover MB.\n",
    "#   link:\n",
    "#     url: https://doi.org/10.1001/jamaneurol.2019.3485\n",
    "#     display: \"JAMA Neurology. 2020 Jan 1;77(1):103-8. doi: 10.1001/jamaneurol.2019.3485. PMID: 31633740 PMCID: PMC6806668.\"\n",
    "#   highlight: 0\n",
    "with open('result.yml', 'w') as yaml_file:\n",
    "    yaml.dump(pubdata, yaml_file, default_flow_style=False, sort_keys=False)\n"
   ]
  },
  {
   "cell_type": "code",
   "execution_count": null,
   "id": "4cf95398",
   "metadata": {},
   "outputs": [],
   "source": []
  },
  {
   "cell_type": "code",
   "execution_count": null,
   "id": "b0d1e037",
   "metadata": {},
   "outputs": [],
   "source": []
  }
 ],
 "metadata": {
  "kernelspec": {
   "display_name": "Python 3 (ipykernel)",
   "language": "python",
   "name": "python3"
  },
  "language_info": {
   "codemirror_mode": {
    "name": "ipython",
    "version": 3
   },
   "file_extension": ".py",
   "mimetype": "text/x-python",
   "name": "python",
   "nbconvert_exporter": "python",
   "pygments_lexer": "ipython3",
   "version": "3.9.13"
  }
 },
 "nbformat": 4,
 "nbformat_minor": 5
}
