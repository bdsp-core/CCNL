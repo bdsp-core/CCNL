{
 "cells": [
  {
   "cell_type": "code",
   "execution_count": 3,
   "id": "3ab93f3c",
   "metadata": {},
   "outputs": [
    {
     "name": "stdout",
     "output_type": "stream",
     "text": [
      "Error decoding file with utf-8, trying next encoding...\n"
     ]
    }
   ],
   "source": [
    "import csv\n",
    "import re\n",
    "import pandas as pd\n",
    "from collections import defaultdict\n",
    "from markdown import markdown\n",
    "\n",
    "# Function to read quotes CSV and return a dictionary of quotes categorized by section\n",
    "# def read_csv(filename):\n",
    "#     with open(filename, newline='', encoding='utf-8') as csvfile:\n",
    "#         reader = csv.reader(csvfile)\n",
    "#         next(reader, None)  # Skip the header row\n",
    "#         quotes_dict = defaultdict(list)\n",
    "#         for row in reader:\n",
    "#             section, quote, attribution = row\n",
    "#             quotes_dict[section.strip()].append((quote.strip(), attribution.strip()))\n",
    "#         return quotes_dict\n",
    "\n",
    "    \n",
    "def read_csv(filename):\n",
    "    encodings = ['utf-8', 'ISO-8859-1', 'windows-1252']  # Add or remove encodings as needed\n",
    "    for encoding in encodings:\n",
    "        try:\n",
    "            with open(filename, newline='', encoding=encoding) as csvfile:\n",
    "                reader = csv.reader(csvfile)\n",
    "                next(reader, None)  # Skip the header row\n",
    "                quotes_dict = defaultdict(list)\n",
    "                for row in reader:\n",
    "                    section, quote, attribution = row\n",
    "                    quotes_dict[section.strip()].append((quote.strip(), attribution.strip()))\n",
    "                return quotes_dict\n",
    "        except UnicodeDecodeError:\n",
    "            print(f\"Error decoding file with {encoding}, trying next encoding...\")\n",
    "    raise UnicodeDecodeError(f\"Could not decode the file with any of the provided encodings: {encodings}\")\n",
    "\n",
    "\n",
    "# Function to create a markdown file with quotes\n",
    "def create_markdown_file(quotes_dict, output_filename):\n",
    "    with open(output_filename, 'w', encoding='utf-8') as mdfile:\n",
    "        # Write the initial static content\n",
    "        mdfile.write(\n",
    "            \"---\\ntitle: \\\"Brandon - quotes\\\"\\nlayout: textlay\\nexcerpt: \\\"Quote collection\\\"\\n\"\n",
    "            \"sitemap: false\\npermalink: /quotes/\\n---\\n\\n<style>\\n/* this is kind of a hack, \"\n",
    "            \"but I think it's a workable solution */\\nblockquote {\\n    padding: 5px 20px;\\n\"\n",
    "            \"    margin: 0 0 20px;\\n    font-size: 16px;\\n    border-left: 5px solid #eee;\\n\"\n",
    "            \"    #background-color: red;\\n}\\nblockquote strong em {\\n  color: #7F8C8D;\\n}\\n\"\n",
    "            \"</style>\\n\\n# Table of Contents\\n\"\n",
    "        )\n",
    "        # Write the Table of Contents\n",
    "        for section in quotes_dict:\n",
    "            mdfile.write(f\"[{section} | ](#{section.replace(' ', '-').lower()})\\n\")\n",
    "\n",
    "        # Write the quotes under each section heading\n",
    "        for section, quotes in quotes_dict.items():\n",
    "            mdfile.write(f\"\\n[Back to Brandon's page](/brandon/)\\n\\n### {section}\\n\")\n",
    "            for quote, attribution in quotes:\n",
    "                # Append two spaces at the end of the quote to ensure the attribution appears on the next line\n",
    "                mdfile.write(f\"> {quote}  \\n> **--_{attribution}_**\\n\\n\")\n",
    "            mdfile.write(\"[Back to Top](#  )\\n\\n\")\n",
    "\n",
    "\n",
    "# Main function to control the flow\n",
    "def main():\n",
    "    quotes_dict = read_csv('quotes_and_attributions.csv')\n",
    "    create_markdown_file(quotes_dict, 'quotes.md')\n",
    "\n",
    "# Call the main function\n",
    "if __name__ == '__main__':\n",
    "    main()"
   ]
  },
  {
   "cell_type": "code",
   "execution_count": null,
   "id": "c7297fea",
   "metadata": {},
   "outputs": [],
   "source": []
  },
  {
   "cell_type": "code",
   "execution_count": null,
   "id": "b53c4f84",
   "metadata": {},
   "outputs": [],
   "source": []
  }
 ],
 "metadata": {
  "kernelspec": {
   "display_name": "Python 3 (ipykernel)",
   "language": "python",
   "name": "python3"
  },
  "language_info": {
   "codemirror_mode": {
    "name": "ipython",
    "version": 3
   },
   "file_extension": ".py",
   "mimetype": "text/x-python",
   "name": "python",
   "nbconvert_exporter": "python",
   "pygments_lexer": "ipython3",
   "version": "3.7.0"
  }
 },
 "nbformat": 4,
 "nbformat_minor": 5
}
