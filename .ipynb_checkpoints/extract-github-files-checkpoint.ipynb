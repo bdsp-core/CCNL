{
 "cells": [
  {
   "cell_type": "code",
   "execution_count": null,
   "id": "7ea2e070-bb61-4ca2-bd06-0ff41bc3474b",
   "metadata": {},
   "outputs": [],
   "source": [
    "import requests\n",
    "\n",
    "# GitHub API URL\n",
    "base_url = \"https://api.github.com/orgs/bdsp-core/repos\"\n",
    "# Personal access token (replace with your own)\n",
    "token = \"YOUR_PERSONAL_ACCESS_TOKEN\"\n",
    "\n",
    "# Headers for authentication\n",
    "headers = {\n",
    "    \"Authorization\": f\"token {token}\"\n",
    "}\n",
    "\n",
    "# Parameters to handle pagination\n",
    "params = {\n",
    "    \"per_page\": 100,  # Max number of repos per page\n",
    "    \"page\": 1\n",
    "}\n",
    "\n",
    "repos = []\n",
    "\n",
    "while True:\n",
    "    response = requests.get(base_url, headers=headers, params=params)\n",
    "    response.raise_for_status()  # Raise an exception if the request was unsuccessful\n",
    "    data = response.json()\n",
    "\n",
    "    if not data:  # Break the loop if there are no more repos\n",
    "        break\n",
    "\n",
    "    repos.extend(data)\n",
    "    params[\"page\"] += 1  # Move to the next page\n",
    "\n",
    "# Extract repository names and links\n",
    "repo_list = [(repo[\"name\"], repo[\"html_url\"]) for repo in repos]\n",
    "\n",
    "# Write the list to a text file\n",
    "with open(\"github_repos.txt\", \"w\") as file:\n",
    "    for name, link in repo_list:\n",
    "        file.write(f\"Project Name: {name}, Link: {link}\\n\")\n",
    "\n",
    "print(\"Repository list saved to github_repos.txt\")\n"
   ]
  }
 ],
 "metadata": {
  "kernelspec": {
   "display_name": "Python 3 (ipykernel)",
   "language": "python",
   "name": "python3"
  },
  "language_info": {
   "codemirror_mode": {
    "name": "ipython",
    "version": 3
   },
   "file_extension": ".py",
   "mimetype": "text/x-python",
   "name": "python",
   "nbconvert_exporter": "python",
   "pygments_lexer": "ipython3",
   "version": "3.10.12"
  }
 },
 "nbformat": 4,
 "nbformat_minor": 5
}
